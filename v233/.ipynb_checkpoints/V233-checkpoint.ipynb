{
 "cells": [
  {
   "cell_type": "markdown",
   "metadata": {},
   "source": [
    "Aufgabe 1\n",
    "========="
   ]
  },
  {
   "cell_type": "code",
   "execution_count": 13,
   "metadata": {
    "collapsed": false
   },
   "outputs": [
    {
     "ename": "ImportError",
     "evalue": "No module named 'plotly'",
     "output_type": "error",
     "traceback": [
      "\u001b[0;31m---------------------------------------------------------------------------\u001b[0m",
      "\u001b[0;31mImportError\u001b[0m                               Traceback (most recent call last)",
      "\u001b[0;32m<ipython-input-13-91681f1499cd>\u001b[0m in \u001b[0;36m<module>\u001b[0;34m()\u001b[0m\n\u001b[0;32m----> 1\u001b[0;31m \u001b[1;32mimport\u001b[0m \u001b[0mplotly\u001b[0m\u001b[1;33m.\u001b[0m\u001b[0mplotly\u001b[0m \u001b[1;32mas\u001b[0m \u001b[0mpy\u001b[0m\u001b[1;33m\u001b[0m\u001b[0m\n\u001b[0m\u001b[1;32m      2\u001b[0m \u001b[1;32mimport\u001b[0m \u001b[0mnumpy\u001b[0m \u001b[1;32mas\u001b[0m \u001b[0mnp\u001b[0m\u001b[1;33m\u001b[0m\u001b[0m\n\u001b[1;32m      3\u001b[0m \u001b[1;32mfrom\u001b[0m \u001b[0mmatplotlib\u001b[0m \u001b[1;32mimport\u001b[0m \u001b[0mpyplot\u001b[0m \u001b[1;32mas\u001b[0m \u001b[0mplt\u001b[0m\u001b[1;33m\u001b[0m\u001b[0m\n\u001b[1;32m      4\u001b[0m \u001b[0mget_ipython\u001b[0m\u001b[1;33m(\u001b[0m\u001b[1;33m)\u001b[0m\u001b[1;33m.\u001b[0m\u001b[0mmagic\u001b[0m\u001b[1;33m(\u001b[0m\u001b[1;34m'matplotlib inline'\u001b[0m\u001b[1;33m)\u001b[0m\u001b[1;33m\u001b[0m\u001b[0m\n\u001b[1;32m      5\u001b[0m \u001b[1;32mfrom\u001b[0m \u001b[0mscipy\u001b[0m \u001b[1;32mimport\u001b[0m \u001b[0mstats\u001b[0m\u001b[1;33m\u001b[0m\u001b[0m\n",
      "\u001b[0;31mImportError\u001b[0m: No module named 'plotly'"
     ]
    }
   ],
   "source": [
    "import numpy as np\n",
    "from matplotlib import pyplot as plt\n",
    "%matplotlib inline \n",
    "from scipy import stats\n",
    "\n",
    "## Zu Aufgabe 1\n",
    "#minmaxplot\n",
    "#ordmin, posmin = np.loadtxt('Minima1.txt', usecols= (0, 1), skiprows = 2, unpack= True)#import data\n",
    "ordmin = np.array([-5,-4,-3,-2,-1,1,2,3,4,5])\n",
    "#posmin = np.array([1068.46,1009.84,1181.38,1128.48,1299.26,1235.26,1412.19,1349.16,1523.87,1467.80,1753.43,1716.95,1867.59,1811.87,1975.55,1921.02,2093.44,2039.67, 2205.12,2155.94])\n",
    "posmin = np.array([1009.84,1128.48,1235.26,1349.16,1523.87,1753.43,1811.87,1921.02,2039.67,2155.94])\n",
    "#ordmax, posmax = np.loadtxt('Maxima1.txt', usecols= (0, 1), skiprows = 1, unpack= True)#import data\n",
    "ordmax = np.array([-5,-4,-3,-2,-1,0,1,2,3,4,5])\n",
    "posmax = np.array([986.11,1071.53,1187.80,1304.07,1472.99,1640.51,1798.10,1864.07,1977.97,2089.50,2203.40])\n",
    "pos0 = 1640.51   #in pixel\n",
    "del_posmax = 2\n",
    "\n",
    "posmin = posmin - pos0 #calculate relative position\n",
    "posmax = posmax - pos0\n",
    "\n",
    "plt.plot(ordmin, posmin, label = \"$Minima$\",marker= 'o', color= 'blue', linewidth=0)\n",
    "plt.plot(ordmax, posmax, label = \"$Maxima$\", marker= 'v', color= 'red', linewidth=0)\n",
    "\n",
    "plt.legend(loc='upper left')\n",
    "plt.xlabel(\"Ordnungszahl n\")\n",
    "plt.ylabel (\"Abstand Minima und Maxima[$px$]\")\n",
    "plt.title(\"Abstand Minima und Maxima von Hauptmaximum\")\n",
    "\n",
    "#calculate gradient----------------------------------------------------------------------------------------\n",
    "ordall1 = np.append(ordmin, ordmax)\n",
    "posall1 = np.append(posmin, posmax)\n",
    "grad1, b1, r_value1, p_value1, std_err_1 = stats.linregress(ordall1, posall1)#gradient, y-axis-intercept\n",
    "x = np.arange(-6,7,1)#start,stop,step of generated values\n",
    "y = grad1*x + b1\n",
    "\n",
    "plt.plot(x,y,color = 'green', linewidth = 1)\n",
    "plt.text(0, -400, (r'$Steigung$ = ${Steigung}\\pm {std_err_1} px/n$ '.format(Steigung =  np.round(grad1,2), std_err_1 =  np.round(std_err_1,2))))\n",
    "plt.text(0, -500, (r'$Y-Achsenabschnitt$ = ${b1} px$ '.format(b1 =  np.round(b1,3))))\n",
    "\n",
    "#plt.savefig(\"Abstand_Minima_&_Maxima_Hauptmaximum.pdf\" ,format = 'PDF')\n",
    "\n",
    "\n",
    "\n",
    "\n",
    "\n",
    "\n",
    "\n",
    "\n",
    "\n",
    "\n"
   ]
  },
  {
   "cell_type": "code",
   "execution_count": 2,
   "metadata": {
    "collapsed": false
   },
   "outputs": [
    {
     "data": {
      "image/png": "[encoded data removed]",
      "text/plain": [
       "<matplotlib.figure.Figure at 0x1ff606e0d68>"
      ]
     },
     "metadata": {},
     "output_type": "display_data"
    },
    {
     "name": "stdout",
     "output_type": "stream",
     "text": [
      "d= 0.000123514658448 +- 1.13076192174e-05 m\n"
     ]
    }
   ],
   "source": [
    "#Eichung----------------------------------------------------------------------------------------------------\n",
    "\n",
    "x2 = np.array([232.54,460.34, 688.13, 915.93]) #Abstand rechtes zu linkem Max gleicher Ordnung\n",
    "x2 = x2/2 #Abstand zur Mitte\n",
    "x2err = 2\n",
    "y2 = np.array([0.25,0.43,0.60,0.84]) # Halbe Spaltbreite\n",
    "y2err = 0.01\n",
    "\n",
    "polfit= np.polyfit(x2,y2,1)\n",
    "Eichgrad = x2*polfit[0]+polfit[1]\n",
    "plt.errorbar(x2,Eichgrad, xerr = x2err,yerr = y2err)            \n",
    "plt.xlabel(\"Ausblendung auf einer Seite [px]\")\n",
    "plt.ylabel (\"Halbe Spaltbreite[mm]\")\n",
    "plt.title(\"Eichung der Abszisse\")\n",
    "eps = 2*polfit[0] #Faktor 2 wegen halber Spaltbreite\n",
    "delta_eps =2*np.std(y2/x2)\n",
    "plt.text(300, 0.3, r'$\\epsilon = {eps} \\pm  {deltaeps} \\: [mm/px]$'.format(eps = np.round(eps,6), deltaeps = np.round(delta_eps,6)))\n",
    "plt.savefig(\"Eichung_der_Abszisse.pdf\" ,format = 'PDF')\n",
    "plt.show()\n",
    "#print(\"Theoretisch gesuchte Größenordnung von meaneps : ~ 3,26*10^-6m\")\n",
    "\n",
    "#Berechnung von d-Analysierspaltgröße------------------------------------------------\n",
    "lam = 635e-6 #Hier Wellenlänge des Lasers eintragen in m\n",
    "Brennw = 0.080#Brennweite der Linse in Metern\n",
    "delta_grad1 = std_err_1# Hier fehlt noch eine fehlerabschätzung der steigung\n",
    "d = lam*Brennw/grad1/eps\n",
    "delta_d = d*np.sqrt((delta_grad1/grad1)**2+(delta_eps/eps)**2)\n",
    "print(\"d=\", d,  \"+-\",  delta_d, \"m\")\n",
    "#print(\"Theoretisch gesuchte Größenordnung von d : ~ 4,74*10^-4\")\n",
    "    \n",
    "\n",
    "\n"
   ]
  },
  {
   "cell_type": "code",
   "execution_count": 3,
   "metadata": {
    "collapsed": false
   },
   "outputs": [
    {
     "name": "stdout",
     "output_type": "stream",
     "text": [
      "n [-5.05490812 -4.3474021  -3.38437558 -2.42134906 -1.02223975  0.36527382\n",
      "  1.67054043  2.21694844  3.16034502  4.08411167  5.02750825]\n",
      "Fehler von n [ 0.10578351  0.09136939  0.07188538  0.05271649  0.02684807  0.01820465\n",
      "  0.03829605  0.04872389  0.06738802  0.08602336  0.10522422]\n"
     ]
    }
   ],
   "source": [
    "\n",
    "#Berechnung der Ornungszahl n der Maxima --------------------------------------------------------------------\n",
    "n = (posmax - b1)/grad1\n",
    "del_n = np.sqrt((del_posmax/grad1)**2+((posmax-b1)*std_err_1/grad1**2)**2)\n",
    "print(\"n\",n)\n",
    "print(\"Fehler von n\", del_n)"
   ]
  },
  {
   "cell_type": "code",
   "execution_count": 4,
   "metadata": {
    "collapsed": false
   },
   "outputs": [
    {
     "name": "stdout",
     "output_type": "stream",
     "text": [
      "Theoretische Ordnung der Minima und Maxima\n",
      "[-5.48154297 -4.47744141 -3.47080078 -2.45908203 -1.43037109 -0.30009766\n",
      "  1.43037109  2.45908203  3.47080078  4.47744141  5.48154297]\n"
     ]
    }
   ],
   "source": [
    "#Theoretische Lage der Minima und Maxima----------------------------------------------------------------------------\n",
    "tol = 0.0001\n",
    "del_n_theo = tol\n",
    "n_theo = np.array([])\n",
    "def theoord(d,n):\n",
    "    return d *(np.cos(np.pi*n)/n - np.sin(np.pi * n)/np.pi /n**2)\n",
    "\n",
    "def bisection(a,b,tol):#this function calculates solution for eqation\n",
    "    c = (a+b)/2.0\n",
    "    while (b-a)/2.0 > tol:\n",
    "        if theoord(d,c) == 0:\n",
    "            return c\n",
    "        elif theoord(d,a)*theoord(d,c) < 0:\n",
    "            b = c\n",
    "        else :\n",
    "            a = c\n",
    "        c = (a+b)/2.0\n",
    "\n",
    "    return c\n",
    "i = -6\n",
    "while i <= 5:\n",
    "    if i == 0:\n",
    "        i +=1\n",
    "    else:\n",
    "        a = i+0.3\n",
    "        b = i + 0.7\n",
    "        temp = np.array([bisection(a,b,tol)])\n",
    "        n_theo = np.hstack([n_theo,temp])\n",
    "        i +=1\n",
    "print(\"Theoretische Ordnung der Minima und Maxima\")\n",
    "print(n_theo)"
   ]
  },
  {
   "cell_type": "code",
   "execution_count": 5,
   "metadata": {
    "collapsed": false
   },
   "outputs": [
    {
     "ename": "FileNotFoundError",
     "evalue": "[Errno 2] No such file or directory: 'Maxima2rechts.txt'",
     "output_type": "error",
     "traceback": [
      "\u001b[0;31m---------------------------------------------------------------------------\u001b[0m",
      "\u001b[0;31mFileNotFoundError\u001b[0m                         Traceback (most recent call last)",
      "\u001b[0;32m<ipython-input-5-dbee35f28949>\u001b[0m in \u001b[0;36m<module>\u001b[0;34m()\u001b[0m\n\u001b[1;32m      1\u001b[0m \u001b[1;31m#Intensitätsverhätniss---------------------------------------------------------------------------------------------------\u001b[0m\u001b[1;33m\u001b[0m\u001b[1;33m\u001b[0m\u001b[0m\n\u001b[1;32m      2\u001b[0m \u001b[1;33m\u001b[0m\u001b[0m\n\u001b[0;32m----> 3\u001b[0;31m \u001b[0mordmaxrechts\u001b[0m\u001b[1;33m,\u001b[0m \u001b[0mIntensrechts\u001b[0m \u001b[1;33m=\u001b[0m \u001b[0mnp\u001b[0m\u001b[1;33m.\u001b[0m\u001b[0mloadtxt\u001b[0m\u001b[1;33m(\u001b[0m\u001b[1;34m'Maxima2rechts.txt'\u001b[0m\u001b[1;33m,\u001b[0m \u001b[0musecols\u001b[0m\u001b[1;33m=\u001b[0m \u001b[1;33m(\u001b[0m\u001b[1;36m0\u001b[0m\u001b[1;33m,\u001b[0m \u001b[1;36m1\u001b[0m\u001b[1;33m)\u001b[0m\u001b[1;33m,\u001b[0m \u001b[0mskiprows\u001b[0m \u001b[1;33m=\u001b[0m \u001b[1;36m1\u001b[0m\u001b[1;33m,\u001b[0m \u001b[0munpack\u001b[0m\u001b[1;33m=\u001b[0m \u001b[1;32mTrue\u001b[0m\u001b[1;33m)\u001b[0m\u001b[1;31m#Hier werden die Messungen in Sättigung eingetragen (Siehe Template´)\u001b[0m\u001b[1;33m\u001b[0m\u001b[0m\n\u001b[0m\u001b[1;32m      4\u001b[0m \u001b[0mordmaxlinks\u001b[0m\u001b[1;33m,\u001b[0m \u001b[0mIntenslinks\u001b[0m \u001b[1;33m=\u001b[0m \u001b[0mnp\u001b[0m\u001b[1;33m.\u001b[0m\u001b[0mloadtxt\u001b[0m\u001b[1;33m(\u001b[0m\u001b[1;34m'Maxima2links.txt'\u001b[0m\u001b[1;33m,\u001b[0m \u001b[0musecols\u001b[0m\u001b[1;33m=\u001b[0m \u001b[1;33m(\u001b[0m\u001b[1;36m0\u001b[0m\u001b[1;33m,\u001b[0m \u001b[1;36m1\u001b[0m\u001b[1;33m)\u001b[0m\u001b[1;33m,\u001b[0m \u001b[0mskiprows\u001b[0m \u001b[1;33m=\u001b[0m \u001b[1;36m1\u001b[0m\u001b[1;33m,\u001b[0m \u001b[0munpack\u001b[0m\u001b[1;33m=\u001b[0m \u001b[1;32mTrue\u001b[0m\u001b[1;33m)\u001b[0m\u001b[1;33m\u001b[0m\u001b[0m\n\u001b[1;32m      5\u001b[0m \u001b[1;33m\u001b[0m\u001b[0m\n",
      "\u001b[0;32mC:\\Users\\Seabastian Leyde\\Anaconda3\\lib\\site-packages\\numpy\\lib\\npyio.py\u001b[0m in \u001b[0;36mloadtxt\u001b[0;34m(fname, dtype, comments, delimiter, converters, skiprows, usecols, unpack, ndmin)\u001b[0m\n\u001b[1;32m    803\u001b[0m                 \u001b[0mfh\u001b[0m \u001b[1;33m=\u001b[0m \u001b[0miter\u001b[0m\u001b[1;33m(\u001b[0m\u001b[0mopen\u001b[0m\u001b[1;33m(\u001b[0m\u001b[0mfname\u001b[0m\u001b[1;33m,\u001b[0m \u001b[1;34m'U'\u001b[0m\u001b[1;33m)\u001b[0m\u001b[1;33m)\u001b[0m\u001b[1;33m\u001b[0m\u001b[0m\n\u001b[1;32m    804\u001b[0m             \u001b[1;32melse\u001b[0m\u001b[1;33m:\u001b[0m\u001b[1;33m\u001b[0m\u001b[0m\n\u001b[0;32m--> 805\u001b[0;31m                 \u001b[0mfh\u001b[0m \u001b[1;33m=\u001b[0m \u001b[0miter\u001b[0m\u001b[1;33m(\u001b[0m\u001b[0mopen\u001b[0m\u001b[1;33m(\u001b[0m\u001b[0mfname\u001b[0m\u001b[1;33m)\u001b[0m\u001b[1;33m)\u001b[0m\u001b[1;33m\u001b[0m\u001b[0m\n\u001b[0m\u001b[1;32m    806\u001b[0m         \u001b[1;32melse\u001b[0m\u001b[1;33m:\u001b[0m\u001b[1;33m\u001b[0m\u001b[0m\n\u001b[1;32m    807\u001b[0m             \u001b[0mfh\u001b[0m \u001b[1;33m=\u001b[0m \u001b[0miter\u001b[0m\u001b[1;33m(\u001b[0m\u001b[0mfname\u001b[0m\u001b[1;33m)\u001b[0m\u001b[1;33m\u001b[0m\u001b[0m\n",
      "\u001b[0;31mFileNotFoundError\u001b[0m: [Errno 2] No such file or directory: 'Maxima2rechts.txt'"
     ]
    }
   ],
   "source": [
    "#Intensitätsverhätniss---------------------------------------------------------------------------------------------------\n",
    "\n",
    "ordmaxrechts, Intensrechts = np.loadtxt('Maxima2rechts.txt', usecols= (0, 1), skiprows = 1, unpack= True)#Hier werden die Messungen in Sättigung eingetragen (Siehe Template´)\n",
    "ordmaxlinks, Intenslinks = np.loadtxt('Maxima2links.txt', usecols= (0, 1), skiprows = 1, unpack= True)\n",
    "\n",
    "Rel_I= np.sin(np.pi*n_theo)**2/(np.pi**2*n_theo**2) #Theoretische Werte\n",
    "del_rel_I = 0\n",
    "del_Iraw = 5                                                                               \n",
    "Igr_l = 156             #Untegrund Rechts und Links 1.Messung\n",
    "del_Igr_l = 5\n",
    "Igr_r = 119\n",
    "del_Igr_r = 5\n",
    "Intenslinks = Intenslinks - Igr_l\n",
    "Intensrechts = Intensrechts - Igr_r\n",
    "\n",
    "I0 = 3932 -((Igr_l+Igr_r)/2) #Hier kommt der Gemessene Wert des 0ten Maximums hin \n",
    "I1_l = 446  - Igr_l    #Hier kommen die beidem Maxima 1. ordnung vor der Sättigung hin\n",
    "I1_r = 462 - Igr_r\n",
    "\n",
    "#Berechnet die Verhältnisse für n > 1 nach Sättigung\n",
    "Rel_I_Expl=I1_l/I0*(Intenslinks)/(Intenslinks[0])\n",
    "Rel_I_Expr=I1_r/I0*(Intensrechts)/(Intensrechts[0])\n",
    "#Fehler von \n",
    "del_rel_I = 0 #nur theoretisch -> Kein Fehler\n",
    "del_Ipure = np.sqrt(5**2+5**2)\n",
    "#del_rel_I_Expl= np.sqrt((10/I0/Intenslinks[0])**2+(10*Intenslinks/I0**2/Intenslinks[0])**2+(10*Intenslinks/I0/Intenslinks[0]**2)**2)\n",
    "#del_rel_I_Expr = np.sqrt((10/I0/Intensrechts[0])**2+(10*Intensrechts/I0**2/Intensrechts[0])**2+(10*Intensrechts/I0/Intensrechts[0]**2)**2)\n",
    "del_rel_I_Expl = np.sqrt((del_Ipure/I0)**2+(del_Ipure*Intenslinks/(I0**2))**2)\n",
    "del_rel_I_Expr = np.sqrt((del_Ipure/I0)**2+(del_Ipure*Intensrechts/(I0**2))**2)\n",
    "\n",
    "print(\"für das Nullte Maximum ist das Verhältniss natürlich 1\")\n",
    "print(\"Das Experimentell bestimmte Verhältniss links ist in steigender Ordnung: \")\n",
    "print(Rel_I_Expl)\n",
    "print(\"-+\")\n",
    "print(np.round(del_rel_I_Expl,6))\n",
    "print(\"Das Experimentell bestimmte Verhältniss rechts ist in steigender Ordnung: \")\n",
    "print(Rel_I_Expr)\n",
    "print(\"+-\")\n",
    "print(np.round(del_rel_I_Expr,6))\n",
    "\n",
    "print(\"das Theoretisch vorhergesagte Verhältniss ist:\")\n",
    "print(Rel_I)\n",
    "\n",
    "\n",
    "\n",
    "np.savetxt(\"test.csv\", Rel_I, delimiter=\",\")#verliet das Komma...\n",
    "\n",
    "print(\"dabei geht das Theoretische Aufstiegend von -5 bis +5\")\n",
    "print(\"Der Untegrund links ist:\", Igr_l ,\"Der Untegrund rechts ist: \", Igr_r , \"Gemittelt ergiebt sich:  \",(Igr_l+Igr_r)/2)\n",
    "\n",
    "\n"
   ]
  },
  {
   "cell_type": "markdown",
   "metadata": {},
   "source": [
    "Aufgabe 2\n",
    "============"
   ]
  },
  {
   "cell_type": "code",
   "execution_count": 8,
   "metadata": {
    "collapsed": false,
    "scrolled": false
   },
   "outputs": [
    {
     "name": "stdout",
     "output_type": "stream",
     "text": [
      "I1/I0: 0.6811955168119551 ± 0.003\n",
      "I2/I0: 0.049674830496748305 ± 0.003\n"
     ]
    }
   ],
   "source": [
    "\n",
    "# Aufgabe 2\n",
    "\n",
    "#Intensiätsverhältnisse-------------------------------------------------------------------------------------------------\n",
    "\n",
    "Idn0 = 3711 -(108+87)/2                        #Hier kommt der Gemessene Wert des 0ten Maximums hin Untergrund vorher abziehen !!!!\n",
    "delta_Idn0 = 7\n",
    "Idn1_l = 2529- 108                     #Hier kommen die beidem Maxima 1. ordnung vor der Sättigung hin Untegrund vorher abziehen !!!\n",
    "Idn1_r = 2589 -87\n",
    "Idn2_l = 291-108                     #Hier kommen die beidem Maxima 1. ordnung vor der Sättigung hin Untegrund vorher abziehen !!!\n",
    "Idn2_r = 263 -87  \n",
    "Idn1 = (Idn1_l+Idn1_r)/2        #Mittelung der Werte\n",
    "delta_Idn1 = 7*np.sqrt(2)\n",
    "Idn2 = (Idn2_l+Idn2_r)/2\n",
    "delta_Idn2 = 7*np.sqrt(2)\n",
    "Idn1_rel = Idn1/Idn0\n",
    "Idn2_rel = Idn2/Idn0\n",
    "delta_Idn1_rel = np.sqrt((delta_Idn1/Idn0)**2+(delta_Idn0*Idn1/Idn0**2)**2)\n",
    "delta_Idn2_rel = np.sqrt((delta_Idn2/Idn0)**2+(delta_Idn0*Idn2/Idn0**2)**2)\n",
    "print(\"I1/I0:\", Idn1_rel,chr(177), np.round(delta_Idn1_rel,3))\n",
    "print(\"I2/I0:\", Idn2_rel,chr(177), np.round(delta_Idn2_rel, 3))\n",
    "\n"
   ]
  },
  {
   "cell_type": "code",
   "execution_count": 9,
   "metadata": {
    "collapsed": false
   },
   "outputs": [
    {
     "name": "stdout",
     "output_type": "stream",
     "text": [
      "Spaltbreite pix 236.48\n",
      "Der Spaltabstand beträgt:\n",
      "453.09 px\n",
      "Verhältniss von Spaltabstand zu Spaltbreite:\n",
      "1.9159759810554804\n"
     ]
    }
   ],
   "source": [
    "\n",
    "#Berechnung des Spaltabstandes-------------------------------------------------------------------------------------------\n",
    "\n",
    "Spaltbrt = 236.48\n",
    "#d_neu = ((Spaltbrt[1]-Spaltbrt[2])+(Spaltbrt[3]-Spaltbrt[1]))/2  #größe in pixeln\n",
    "print(\"Spaltbreite pix\", Spaltbrt)\n",
    "#delta_d_neu = 2\n",
    "Spaltabstd= 453.09\n",
    "delta_Spaltabstd= np.sqrt(3)*2\n",
    "Verh= Spaltabstd/Spaltbrt\n",
    "#delta_Verh= np.sqrt((2/Spaltbrt)**2+(delta_Spaltabstd/Spaltabstd)**2)\n",
    "print(\"Der Spaltabstand beträgt:\")\n",
    "print(Spaltabstd, \"px\")\n",
    "print(\"Verhältniss von Spaltabstand zu Spaltbreite:\")\n",
    "print(Verh)"
   ]
  },
  {
   "cell_type": "markdown",
   "metadata": {},
   "source": [
    "Aufgabe 3\n",
    "=========="
   ]
  },
  {
   "cell_type": "code",
   "execution_count": 10,
   "metadata": {
    "collapsed": false
   },
   "outputs": [
    {
     "name": "stdout",
     "output_type": "stream",
     "text": [
      "spaltbreite des Modifizierten Einzelspalts: 0.14835680751173708 +- 0.00116085138898\n"
     ]
    }
   ],
   "source": [
    "#Aufgabe 3  Namenskonvention: \"-em\" steht für einzelspalt modifiziert\n",
    "\n",
    "#Berechnung der Spaltbreite--------------------------------------------------------------------------------------------------\n",
    "demBild = 2.37/2 #mm, 1pix=16e-6 m \n",
    "delta_demBild = np.sqrt(8)\n",
    "Bildwt = 719#mm\n",
    "delta_Bildwt = 5#mm\n",
    "Brennwt = 80#mm\n",
    "dem = demBild/((1/Brennwt-1/Bildwt)*Bildwt)#in pixel?\n",
    "B = ((1/Brennwt-1/Bildwt)*Bildwt)\n",
    "delB = np.sqrt((delta_Bildwt/Brennwt)**2)\n",
    "delta_dem = np.sqrt((delB/B)**2)*dem\n",
    "print(\"spaltbreite des Modifizierten Einzelspalts:\",dem,\"+-\", delta_dem)\n"
   ]
  },
  {
   "cell_type": "code",
   "execution_count": 11,
   "metadata": {
    "collapsed": false
   },
   "outputs": [
    {
     "ename": "FileNotFoundError",
     "evalue": "[Errno 2] No such file or directory: 'Iem.txt'",
     "output_type": "error",
     "traceback": [
      "\u001b[0;31m---------------------------------------------------------------------------\u001b[0m",
      "\u001b[0;31mFileNotFoundError\u001b[0m                         Traceback (most recent call last)",
      "\u001b[0;32m<ipython-input-11-b89eaba4bba7>\u001b[0m in \u001b[0;36m<module>\u001b[0;34m()\u001b[0m\n\u001b[1;32m      4\u001b[0m \u001b[0mIem0\u001b[0m \u001b[1;33m=\u001b[0m \u001b[1;36m3746\u001b[0m \u001b[1;33m-\u001b[0m \u001b[0mIem_untergrd\u001b[0m \u001b[1;31m# Hier Wert Eintragen  und untegrund abziehen\u001b[0m\u001b[1;33m\u001b[0m\u001b[0m\n\u001b[1;32m      5\u001b[0m \u001b[1;33m\u001b[0m\u001b[0m\n\u001b[0;32m----> 6\u001b[0;31m \u001b[0mIem\u001b[0m \u001b[1;33m=\u001b[0m \u001b[0mnp\u001b[0m\u001b[1;33m.\u001b[0m \u001b[0mloadtxt\u001b[0m\u001b[1;33m(\u001b[0m\u001b[1;34m'Iem.txt'\u001b[0m\u001b[1;33m)\u001b[0m\u001b[1;33m\u001b[0m\u001b[0m\n\u001b[0m\u001b[1;32m      7\u001b[0m \u001b[0mIem_kor\u001b[0m \u001b[1;33m=\u001b[0m \u001b[0mIem\u001b[0m \u001b[1;33m-\u001b[0m\u001b[0mIem_untergrd\u001b[0m      \u001b[1;31m#Werte auf Untegrund koriegiert\u001b[0m\u001b[1;33m\u001b[0m\u001b[0m\n\u001b[1;32m      8\u001b[0m \u001b[0mIem_kor_rel\u001b[0m \u001b[1;33m=\u001b[0m \u001b[0mIem_kor\u001b[0m\u001b[1;33m/\u001b[0m\u001b[0mIem0\u001b[0m    \u001b[1;31m#ES HANDELT SICH HIERBEI UM DIE EXPERIMENTELL GEMESSENEN WERTE DIE THEORETISCHEN WERDEN GRAFISCH BESTIMMT !!!!\u001b[0m\u001b[1;33m\u001b[0m\u001b[0m\n",
      "\u001b[0;32mC:\\Users\\Seabastian Leyde\\Anaconda3\\lib\\site-packages\\numpy\\lib\\npyio.py\u001b[0m in \u001b[0;36mloadtxt\u001b[0;34m(fname, dtype, comments, delimiter, converters, skiprows, usecols, unpack, ndmin)\u001b[0m\n\u001b[1;32m    803\u001b[0m                 \u001b[0mfh\u001b[0m \u001b[1;33m=\u001b[0m \u001b[0miter\u001b[0m\u001b[1;33m(\u001b[0m\u001b[0mopen\u001b[0m\u001b[1;33m(\u001b[0m\u001b[0mfname\u001b[0m\u001b[1;33m,\u001b[0m \u001b[1;34m'U'\u001b[0m\u001b[1;33m)\u001b[0m\u001b[1;33m)\u001b[0m\u001b[1;33m\u001b[0m\u001b[0m\n\u001b[1;32m    804\u001b[0m             \u001b[1;32melse\u001b[0m\u001b[1;33m:\u001b[0m\u001b[1;33m\u001b[0m\u001b[0m\n\u001b[0;32m--> 805\u001b[0;31m                 \u001b[0mfh\u001b[0m \u001b[1;33m=\u001b[0m \u001b[0miter\u001b[0m\u001b[1;33m(\u001b[0m\u001b[0mopen\u001b[0m\u001b[1;33m(\u001b[0m\u001b[0mfname\u001b[0m\u001b[1;33m)\u001b[0m\u001b[1;33m)\u001b[0m\u001b[1;33m\u001b[0m\u001b[0m\n\u001b[0m\u001b[1;32m    806\u001b[0m         \u001b[1;32melse\u001b[0m\u001b[1;33m:\u001b[0m\u001b[1;33m\u001b[0m\u001b[0m\n\u001b[1;32m    807\u001b[0m             \u001b[0mfh\u001b[0m \u001b[1;33m=\u001b[0m \u001b[0miter\u001b[0m\u001b[1;33m(\u001b[0m\u001b[0mfname\u001b[0m\u001b[1;33m)\u001b[0m\u001b[1;33m\u001b[0m\u001b[0m\n",
      "\u001b[0;31mFileNotFoundError\u001b[0m: [Errno 2] No such file or directory: 'Iem.txt'"
     ]
    }
   ],
   "source": [
    "#Berechnung der Relativen Intensitäten\n",
    "\n",
    "Iem_untergrd = 130 #nicht gemessen sonder muss aus Graph abgelesen werden und gemittelt über rechts und links\n",
    "Iem0 = 3746 - Iem_untergrd # Hier Wert Eintragen  und untegrund abziehen\n",
    "\n",
    "Iem = np. loadtxt('Iem.txt')\n",
    "Iem_kor = Iem -Iem_untergrd      #Werte auf Untegrund koriegiert\n",
    "Iem_kor_rel = Iem_kor/Iem0    #ES HANDELT SICH HIERBEI UM DIE EXPERIMENTELL GEMESSENEN WERTE DIE THEORETISCHEN WERDEN GRAFISCH BESTIMMT !!!!\n",
    "print(\"Intensität des Einzelspalts Aufsteigend nach Tabelle:\")\n",
    "print(Iem_kor_rel)\n",
    "#Hier fehlt auch noch ein Fehler"
   ]
  },
  {
   "cell_type": "markdown",
   "metadata": {},
   "source": [
    "Aufgabe 4\n",
    "==========="
   ]
  },
  {
   "cell_type": "code",
   "execution_count": 12,
   "metadata": {
    "collapsed": false
   },
   "outputs": [
    {
     "name": "stdout",
     "output_type": "stream",
     "text": [
      "Spaltbreite in mm 0.805582830364 +- 0.0718460118623\n",
      "Spaltabstand in mm 1.54347735373 +- 0.137655233063\n",
      "Verhältnis Spaltabstand duch Spaltbreite =  1.91597598106  +- 0.241655966576\n"
     ]
    }
   ],
   "source": [
    "# Aufgabe 4 \n",
    "#Spaltbreite und Abstand in Aufgabe 2 bestimmt\n",
    "\n",
    "Maßstb= Bildwt/Brennwt -1   # Ist Spaltbreite hier richtig ???\n",
    "\n",
    "d_mm = eps *Spaltbrt # Spaltbreite[mm]\n",
    "del_d_mm = np.sqrt((Spaltbrt*delta_eps)**2)\n",
    "print(\"Spaltbreite in mm\", d_mm, \"+-\", del_d_mm)\n",
    "g_dm = Spaltabstd*eps \n",
    "delta_g_dm = np.sqrt((Spaltabstd*delta_eps)**2)\n",
    "print(\"Spaltabstand in mm\",g_dm ,\"+-\", delta_g_dm)\n",
    "\n",
    "g_durch_d = g_dm/d_mm\n",
    "del_d_durch_d = np.sqrt((delta_g_dm /d_mm)**2+(g_dm/d_mm**2*del_d_mm)**2)\n",
    "print(\"Verhältnis Spaltabstand duch Spaltbreite = \", g_durch_d, \" +-\" , del_d_durch_d)\n"
   ]
  },
  {
   "cell_type": "code",
   "execution_count": null,
   "metadata": {
    "collapsed": true
   },
   "outputs": [],
   "source": []
  }
 ],
 "metadata": {
  "anaconda-cloud": {},
  "celltoolbar": "Raw Cell Format",
  "kernelspec": {
   "display_name": "Python 3",
   "language": "python",
   "name": "python3"
  },
  "language_info": {
   "codemirror_mode": {
    "name": "ipython",
    "version": 3
   },
   "file_extension": ".py",
   "mimetype": "text/x-python",
   "name": "python",
   "nbconvert_exporter": "python",
   "pygments_lexer": "ipython3",
   "version": "3.6.0"
  }
 },
 "nbformat": 4,
 "nbformat_minor": 0
}
