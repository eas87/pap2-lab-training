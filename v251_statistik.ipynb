{
 "cells": [
  {
   "cell_type": "markdown",
   "metadata": {},
   "source": [
    "# PAP2 V251: Statistik des radioaktiven Zerfalls"
   ]
  },
  {
   "cell_type": "markdown",
   "metadata": {},
   "source": [
    "Aufgabe 1: Importieren und grafische Dartstellung der Messdaten"
   ]
  },
  {
   "cell_type": "code",
   "execution_count": 7,
   "metadata": {
    "collapsed": false
   },
   "outputs": [
    {
     "data": {
      "image/png": "[encoded data removed]",
      "text/plain": [
       "<matplotlib.figure.Figure at 0x7b130f0>"
      ]
     },
     "metadata": {},
     "output_type": "display_data"
    }
   ],
   "source": [
    "%matplotlib inline\n",
    "import matplotlib.pyplot as plt\n",
    "import numpy as np\n",
    "\n",
    "#Zaehlrohrspannung:\n",
    "U=np.array([410,435,460,485,510,535,560])\n",
    "#gezaehlte Ereignisse\n",
    "N=np.array([2494,2512,2540,2551,2535,2532,2591])\n",
    "Fehler_N=np.sqrt(N)\n",
    "\n",
    "plt.errorbar(U, N, Fehler_N, fmt=\".\")\n",
    "plt.xlabel('Spannung / V')\n",
    "plt.ylabel('Ereignissse')\n",
    "plt.title('Zaehlrohrcharakteristik')\n",
    "\n",
    "from scipy.optimize import curve_fit\n",
    "def linear(x,a,b):\n",
    "    return a*x+b\n",
    "popt, pcov=curve_fit(linear, U, N)\n",
    "\n",
    "plt.errorbar(U, N, Fehler_N, fmt=\".\")\n",
    "plt.xlabel('Spannung / V')\n",
    "plt.ylabel('Ereignissse')\n",
    "plt.title('Zaehlrohrcharakteristik')\n",
    "plt.plot(U, linear(U,*popt))\n",
    "plt.savefig(\"figures/Zaehlrohrcharakteristik.pdf\", format=\"pdf\")"
   ]
  },
  {
   "cell_type": "markdown",
   "metadata": {},
   "source": [
    "Aufgabe 2: Plateaubereich des Zählrohres\n",
    "- Rechnung in Laborbuch"
   ]
  },
  {
   "cell_type": "markdown",
   "metadata": {},
   "source": [
    "Aufgabe 3: Auswertung Daten mit hoher mittlerer Ereigniszahl"
   ]
  },
  {
   "cell_type": "code",
   "execution_count": 8,
   "metadata": {
    "collapsed": false
   },
   "outputs": [
    {
     "ename": "SyntaxError",
     "evalue": "invalid character in identifier (<ipython-input-8-d5cda90594c2>, line 1)",
     "output_type": "error",
     "traceback": [
      "\u001b[1;36m  File \u001b[1;32m\"<ipython-input-8-d5cda90594c2>\"\u001b[1;36m, line \u001b[1;32m1\u001b[0m\n\u001b[1;33m    anzahl, haeufigkeit=np.loadtxt(’data/Dateiname.dat’, unpack=True)\u001b[0m\n\u001b[1;37m                                       ^\u001b[0m\n\u001b[1;31mSyntaxError\u001b[0m\u001b[1;31m:\u001b[0m invalid character in identifier\n"
     ]
    }
   ],
   "source": [
    "anzahl, haeufigkeit=np.loadtxt(’data/Dateiname.dat’, unpack=True)\n",
    "fehler=np.sqrt(haeufigkeit)\n",
    "\n",
    "plt.errorbar(anzahl, haeufigkeit, fehler, fmt=\".\")\n",
    "plt.xlabel('Anzahl der Zerfaelle pro Zeiteinheit / 1/s ')\n",
    "plt.ylabel('Haeufigkeit')\n",
    "plt.title('Statistik des radioaktiven Zerfalls')\n",
    "\n",
    "from numpy import exp, pi, sqrt\n",
    "def gaussian(x, A, mu, sig): #A: Flaeche der Gaussfunktion\n",
    "    return A/(2*pi*sqrt(sig))*exp(-(x-mu)**2/2/sig**2)\n",
    "\n",
    "popt, pcov=curve_fit(gaussian,anzahl[12:-12], haeufigkeit[12:-12], p0=[2000,75,8],sigma=fehler[12:-12])\n",
    "\n",
    "from scipy.special import gamma\n",
    "def poisson(x, A_p, mu_p):\n",
    "    return A_p*exp(-mu_p)*mu_p**x/gamma(x+1)\n",
    "popt_p, pcov_p = curve_fit(poisson, anzahl[12:-12],\n",
    "haeufigkeit[12:-12], p0=[2000, 75], sigma=fehler[12:-12])\n",
    "\n",
    "plt.errorbar(anzahl,haeufigkeit,fehler, fmt=\".\",label=’Messung’)\n",
    "plt.xlabel(’Anzahl der Zerfaelle pro Zeiteinheit 1/s ’)\n",
    "plt.ylabel(’Haeufigkeit’)\n",
    "plt.title(’Statistik des radioaktiven Zerfalls’)\n",
    "x=np.linspace(40,110, 100)\n",
    "plt.plot(x, gaussian(x,*popt), label=’Gauss’)\n",
    "plt.plot(x, poisson(x,*popt_p), label=’Poisson’,linestyle=’:’)\n",
    "plt.legend()\n",
    "plt.savefig(\"figures/poisson_vs_gaussian.pdf\", format=\"pdf\")\n",
    "\n",
    "\n",
    "print(\"Gaussfit:\")\n",
    "print(\"A=\",popt[0], \", Standardfehler=\", np.sqrt(pcov[0][0]))\n",
    "print(\"mu=\",popt[1], \", Standardfehler=\", np.sqrt(pcov[1][1]))\n",
    "print(\"sig=\",popt[2], \", Standardfehler=\", np.sqrt(pcov[2][2]))\n",
    "print(\"Poissonfit:\")\n",
    "print(\"A_p=\",popt_p[0], \", Standardfehler=\", sqrt(pcov_p[0][0]))\n",
    "print(\"mu_p=\",popt_p[1], \", Standardfehler=\", sqrt(pcov_p[1][1]))\n",
    "\n",
    "\n",
    "#Gauss:\n",
    "chi2_g=np.sum((gaussian(anzahl[12:-12],*popt)\n",
    "-haeufigkeit[12:-12])**2/fehler[12:-12]**2)\n",
    "dof_g=len(anzahl[12:-12])-3 #dof:degrees of freedom, Freiheitsgrad\n",
    "chi2_red_g=chi2_g/dof_g\n",
    "print(\"chi2_g=\", chi2_g)\n",
    "print(\"chi2_red_g=\",chi2_red_g)\n",
    "#Poisson:\n",
    "chi2_p=np.sum((poisson(anzahl[12:-12],*popt_p)\n",
    "-haeufigkeit[12:-12])**2/fehler[12:-12]**2)\n",
    "dof_p=len(anzahl[12:-12])-2 #poisson hat nur 2 Parameter\n",
    "chi2_red_p=chi2_p/dof_p\n",
    "print(\"chi2_p=\", chi2_p)\n",
    "print(\"chi2_red_p=\",chi2_red_p)\n",
    "\n",
    "\n",
    "from scipy.stats import chi2\n",
    "#Gauss:\n",
    "prob_g=round(1-chi2.cdf(chi2_g,dof_g),2)*100\n",
    "#Poisson:\n",
    "prob_p=round(1-chi2.cdf(chi2_p,dof_p),2)*100\n",
    "print(\"Wahrscheinlichkeit Gauss=\", prob_g,\"%\")\n",
    "print(\"Wahrscheinlichkeit Poisson=\", prob_p,\"%\")\n",
    "\n",
    "\n",
    "\n"
   ]
  },
  {
   "cell_type": "markdown",
   "metadata": {},
   "source": [
    "Aufgabe 4: Auswertung der Daten mit kleiner mittlerer Ereigniszahl"
   ]
  },
  {
   "cell_type": "code",
   "execution_count": null,
   "metadata": {
    "collapsed": true
   },
   "outputs": [],
   "source": []
  }
 ],
 "metadata": {
  "kernelspec": {
   "display_name": "Python 3",
   "language": "python",
   "name": "python3"
  },
  "language_info": {
   "codemirror_mode": {
    "name": "ipython",
    "version": 3
   },
   "file_extension": ".py",
   "mimetype": "text/x-python",
   "name": "python",
   "nbconvert_exporter": "python",
   "pygments_lexer": "ipython3",
   "version": "3.4.4"
  }
 },
 "nbformat": 4,
 "nbformat_minor": 0
}
