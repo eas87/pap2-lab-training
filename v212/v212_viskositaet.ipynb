{
 "cells": [
  {
   "cell_type": "markdown",
   "metadata": {},
   "source": [
    "# PAP2 V212: Zähigkeit von Flüssigkeiten"
   ]
  },
  {
   "cell_type": "code",
   "execution_count": 94,
   "metadata": {
    "collapsed": true
   },
   "outputs": [],
   "source": [
    "#Grundeinstellungen\n",
    "%matplotlib inline\n",
    "import matplotlib.pyplot as plt\n",
    "import numpy as np\n",
    "from scipy.optimize import curve_fit"
   ]
  },
  {
   "cell_type": "code",
   "execution_count": 146,
   "metadata": {
    "collapsed": true
   },
   "outputs": [],
   "source": [
    "#Aufgabe 1: \n",
    "\n",
    "#Messwerte Zeiten: \n",
    "t9 = [9.01, 8.80, 9.98, 8.82, 8.84]\n",
    "t8 = [7.40, 7.42, 7.59, 7.48, 7.61]\n",
    "t7 = [8.51, 8.34, 8.36, 8.34, 8.43]\n",
    "t6 = [11.18, 11.14, 11.09, 11.32, 11.01]\n",
    "t5 = [16.17, 15.29, 15.02, 15.12, 15.82]\n",
    "t4 = [11.73, 11.68, 11.70, 11.65, 11.45]\n",
    "t3 = [19.87, 19.40, 19.82, 18.34, 19.78]\n",
    "t2 = [19.58, 19.80, 19.18, 19.68, 19.70]\n",
    "t1 = [31.43, 30.32, 29.29, 30.37, 31.36]\n",
    "\n",
    "dt = 0.2\n",
    "\n",
    "#Werte der durchlaufenen Strecken in Meter: \n",
    "L9 = 0.3\n",
    "L8 = 0.2\n",
    "L7 = 0.2\n",
    "L6 = 0.2\n",
    "L5 = 0.2\n",
    "L4 = 0.1\n",
    "L3 = 0.1\n",
    "L2 = 0.05\n",
    "L1 = 0.05\n",
    "\n",
    "dL = 0.0005\n",
    "\n",
    "#Als eine iterierbare Liste: \n",
    "L = [L9, L8, L7, L6, L5, L4, L3, L2, L1]\n",
    "\n",
    "#Werte Durchmesser der Kugeln in Meter: \n",
    "r9 = 0.009\n",
    "r8 = 0.008\n",
    "r7 = 0.007144\n",
    "r6 = 0.006\n",
    "r5 = 0.005\n",
    "r4 = 0.004\n",
    "r3 = 0.003\n",
    "r2 = 0.002\n",
    "r1 = 0.0015\n",
    "\n",
    "#Radien als eine iterierbare Liste:\n",
    "r = np.array([r9, r8, r7, r6, r5, r4, r3, r2, r1])/2\n",
    "dr = r*0.01\n",
    "\n",
    "#Werte Dichten der Kugeln in g/cm^2\n",
    "\n",
    "d9 = 1.3625\n",
    "d8 = 1.3575\n",
    "d7 = 1.3775\n",
    "d6 = d7\n",
    "d5 = d7\n",
    "d4 = d7\n",
    "d3 = d7\n",
    "d2 = d7\n",
    "d1 = 1.3925\n",
    "\n",
    "dd = 0.0025 #Fehler in der Dichte\n",
    "\n",
    "#Dichte der Flüssigkeit: \n",
    "df = 1.1458\n",
    "df = np.array([df, df, df, df, df, df, df, df, df])\n",
    "\n",
    "#Als eine iterierbare Liste:\n",
    "d = np.array([d9,d8,d7,d6,d5,d4,d3,d2,d1])"
   ]
  },
  {
   "cell_type": "code",
   "execution_count": 102,
   "metadata": {
    "collapsed": false
   },
   "outputs": [],
   "source": [
    "#Definiere eine Funktion, welche Geschwindigkeit berechnet:\n",
    "def vel(t, L):\n",
    "    v = L/t\n",
    "    return v\n",
    "\n",
    "def dvel(t, L):\n",
    "    dt = 0.2 #Fehler der Zeit\n",
    "    dL = 0.0005 #Fehler in der Länge\n",
    "    dv = np.sqrt((dL/t)**2+((dt*L)/(t**2))**2)\n",
    "    return dv"
   ]
  },
  {
   "cell_type": "code",
   "execution_count": 103,
   "metadata": {
    "collapsed": false
   },
   "outputs": [
    {
     "name": "stdout",
     "output_type": "stream",
     "text": [
      "[ 0.03307952  0.02667017  0.02382233  0.01794196  0.01292687  0.00859022\n",
      "  0.00514819  0.0025529   0.00163755]\n"
     ]
    }
   ],
   "source": [
    "#Geschwindigkeiten berechnen: \n",
    "v9 = [0,0,0,0,0]\n",
    "v8 = [0,0,0,0,0]\n",
    "v7 = [0,0,0,0,0]\n",
    "v6 = [0,0,0,0,0]\n",
    "v5 = [0,0,0,0,0]\n",
    "v4 = [0,0,0,0,0]\n",
    "v3 = [0,0,0,0,0]\n",
    "v2 = [0,0,0,0,0]\n",
    "v1 = [0,0,0,0,0]\n",
    "\n",
    "for i in range(5): \n",
    "    v9[i] = ((vel(t9[i], L9)))\n",
    "    v8[i] = ((vel(t8[i], L8)))\n",
    "    v7[i] = ((vel(t7[i], L7)))\n",
    "    v6[i] = ((vel(t6[i], L6)))\n",
    "    v5[i] = ((vel(t5[i], L5)))\n",
    "    v4[i] = ((vel(t4[i], L4)))\n",
    "    v3[i] = ((vel(t3[i], L3)))\n",
    "    v2[i] = ((vel(t2[i], L2)))\n",
    "    v1[i] = ((vel(t1[i], L1)))\n",
    "    \n",
    "#Geschwindigkeit pro Kugel durch Mittelung: \n",
    "v9 = np.mean(v9)\n",
    "v8 = np.mean(v8)\n",
    "v7 = np.mean(v7)\n",
    "v6 = np.mean(v6)\n",
    "v5 = np.mean(v5)\n",
    "v4 = np.mean(v4)\n",
    "v3 = np.mean(v3)\n",
    "v2 = np.mean(v2)\n",
    "v1 = np.mean(v1)\n",
    "\n",
    "#Zusammenfassen der Geschwindigkeiten in eine Liste\n",
    "v = np.array([v9, v8, v7, v6, v5, v4, v3, v2, v1])\n",
    "print(v)"
   ]
  },
  {
   "cell_type": "code",
   "execution_count": 124,
   "metadata": {
    "collapsed": false
   },
   "outputs": [
    {
     "name": "stdout",
     "output_type": "stream",
     "text": [
      "[  7.33156169e-04   7.14509277e-04   5.70654212e-04   3.25051360e-04\n",
      "   1.70331750e-04   1.53717845e-04   5.89764966e-05   3.64902399e-05\n",
      "   1.95810772e-05]\n"
     ]
    }
   ],
   "source": [
    "#Fehler der Geschwindigkeiten\n",
    "dv9 = [0,0,0,0,0]\n",
    "dv8 = [0,0,0,0,0]\n",
    "dv7 = [0,0,0,0,0]\n",
    "dv6 = [0,0,0,0,0]\n",
    "dv5 = [0,0,0,0,0]\n",
    "dv4 = [0,0,0,0,0]\n",
    "dv3 = [0,0,0,0,0]\n",
    "dv2 = [0,0,0,0,0]\n",
    "dv1 = [0,0,0,0,0]\n",
    "\n",
    "for i in range(5): \n",
    "    dv9[i] = ((dvel(t9[i], L9)))\n",
    "    dv8[i] = ((dvel(t8[i], L8)))\n",
    "    dv7[i] = ((dvel(t7[i], L7)))\n",
    "    dv6[i] = ((dvel(t6[i], L6)))\n",
    "    dv5[i] = ((dvel(t5[i], L5)))\n",
    "    dv4[i] = ((dvel(t4[i], L4)))\n",
    "    dv3[i] = ((dvel(t3[i], L3)))\n",
    "    dv2[i] = ((dvel(t2[i], L2)))\n",
    "    dv1[i] = ((dvel(t1[i], L1)))\n",
    "    \n",
    "#Fehler der Geschwindigkeit jeder Kugel \n",
    "\n",
    "dv9 = np.mean(dv9)\n",
    "dv8 = np.mean(dv8)\n",
    "dv7 = np.mean(dv7)\n",
    "dv6 = np.mean(dv6)\n",
    "dv5 = np.mean(dv5)\n",
    "dv4 = np.mean(dv4)\n",
    "dv3 = np.mean(dv3)\n",
    "dv2 = np.mean(dv2)\n",
    "dv1 = np.mean(dv1)\n",
    "\n",
    "#Zusammenfassen der Geschwindigkeiten in eine Liste\n",
    "dv = np.array([dv9, dv8, dv7, dv6, dv5, dv4, dv3, dv2, dv1])\n",
    "print(dv)"
   ]
  },
  {
   "cell_type": "code",
   "execution_count": 52,
   "metadata": {
    "collapsed": false
   },
   "outputs": [
    {
     "data": {
      "text/plain": [
       "0.0017018503220173886"
      ]
     },
     "execution_count": 52,
     "metadata": {},
     "output_type": "execute_result"
    }
   ],
   "source": [
    "np.sqrt(np.std(v9)**2+np.mean(dv9)**2)"
   ]
  },
  {
   "cell_type": "code",
   "execution_count": 53,
   "metadata": {
    "collapsed": false
   },
   "outputs": [
    {
     "data": {
      "text/plain": [
       "0.0015358308990351371"
      ]
     },
     "execution_count": 53,
     "metadata": {},
     "output_type": "execute_result"
    }
   ],
   "source": [
    "np.std(v9)"
   ]
  },
  {
   "cell_type": "code",
   "execution_count": 55,
   "metadata": {
    "collapsed": false
   },
   "outputs": [
    {
     "data": {
      "text/plain": [
       "0.00073315616898421562"
      ]
     },
     "execution_count": 55,
     "metadata": {},
     "output_type": "execute_result"
    }
   ],
   "source": [
    "np.mean(dv9)"
   ]
  },
  {
   "cell_type": "code",
   "execution_count": 139,
   "metadata": {
    "collapsed": false
   },
   "outputs": [
    {
     "data": {
      "image/png": "[encoded data removed]",
      "text/plain": [
       "<matplotlib.figure.Figure at 0x116983c50>"
      ]
     },
     "metadata": {},
     "output_type": "display_data"
    }
   ],
   "source": [
    "#Plotten des Graphen: \n",
    "\n",
    "#Werte zusammenfassen in Arrays: \n",
    "x = np.array(r**2)\n",
    "y = np.array(v/(d-df))\n",
    "dx = np.array(2*r*0.01*r)\n",
    "dy = np.array(dv/(d-df))\n",
    "\n",
    "#Ladenburgsche Korrektur: \n",
    "R = 0.0375 #Rohr Radius\n",
    "R = np.array([R,R,R,R,R,R,R,R,R])\n",
    "l = (1+2.1*(r/R)) #Korrekturfaktor\n",
    "dl = 2.1*(dr/R)\n",
    "\n",
    "y2 = np.array(v*l/(d-df))\n",
    "dy2 = np.array(np.sqrt((((dv*l)/(d-df))**2+((v*dl)/(d-df))**2)))\n",
    "\n",
    "#Linearen Bereich für Fit auswählen\n",
    "x3 = x[0:6]\n",
    "y3 = y2[0:6]\n",
    "dy3 = dy2[0:6]\n",
    "\n",
    "# Fit mit Ursprungsgerade\n",
    "def fit(x, m):\n",
    "    return m*x\n",
    "s=np.arange(0, 0.000025, 0.000001) #Punkte für Darstellung des Fits\n",
    "\n",
    "#Fit durchführen\n",
    "#Konfiguration 1\n",
    "popt, pcov = curve_fit(fit, x3, y3, maxfev=5000, sigma=dy3)\n",
    "perr = np.sqrt(np.diag(pcov))\n",
    "\n",
    "#Güte des Fits\n",
    "chisquare=np.sum((((fit(x3,*popt))-y3)/(dy3))**2)\n",
    "dof=5 #degrees of freedom, Freiheitsgrad Anzahl Messwerte (6) - Fitparameter (1)\n",
    "chisquare_red=chisquare/dof\n",
    "from scipy.stats import chi2 \n",
    "prob=round(1-chi2.cdf(chisquare,dof),2)*100 \n",
    "\n",
    "plt.errorbar(x, y, xerr=dx, yerr=dy, linestyle='None', marker='x', label='$Messwerte\\ unkorrigiert$')\n",
    "plt.errorbar(x, y2, xerr=dx, yerr=dy2, linestyle='None', marker='x', label='$Ladenburgsche\\ Korrektur$')\n",
    "plt.plot(s, fit(s, *popt), label='$Fit\\ mit\\ f(x)=m*x$ \\n $ergibt: m_{fit}=%.f \\pm%.f$' %(popt[0], perr[0]), color='c')\n",
    "\n",
    "plt.xlabel('$Radiusquadrat\\ r^2\\ in\\ [m^2]$')\n",
    "plt.ylabel('$\\\\frac{\\\\bar{v}}{\\\\rho_{k}-\\\\rho_{f}}\\ in\\ [\\\\frac{m*cm^3}{s*g}] $')\n",
    "plt.title(r'Diagramm 1: Sinkgeschwindigkeit')\n",
    "#plt.yscale('log')\n",
    "#plt.grid(True)\n",
    "plt.axis((0, 0.000022, 0, 0.22))\n",
    "plt.rcParams[\"figure.figsize\"][0] = 8\n",
    "plt.rcParams[\"figure.figsize\"][1] = 5\n",
    "#plt.rcParams[\"font.family\"]='serif'\n",
    "plt.legend(title='Messwerte mit Fit', borderpad=0.5, borderaxespad=1, loc='best', shadow='true')\n",
    "plt.ticklabel_format(style='sci', axis='x', scilimits=(0,0))\n",
    "\n",
    "##Text im Plot\n",
    "#plt.text(0.000016, 0.08, u'$m_{fit}=%.f \\pm%.f$' %(popt[0], perr[0]), fontsize=10)\n",
    "#plt.text(0.000016, 0.06, u'$\\chi^{2}=%.2f$' %(chisquare), fontsize=10)\n",
    "#plt.text(0.000016, 0.04, u'$\\chi_{red}^{2}=%.2f $' %(chisquare_red), fontsize=10)\n",
    "#plt.text(0.000016, 0.02, u'$P=%.2f $' %(prob) + '%', fontsize=10)\n",
    "\n",
    "#plt.savefig('v212_1.pdf',format='pdf')"
   ]
  },
  {
   "cell_type": "code",
   "execution_count": 150,
   "metadata": {
    "collapsed": false
   },
   "outputs": [],
   "source": [
    "#Theoretische Werte vlam berechnen: \n",
    "m = popt #Geradensteigung aus Fit enspricht Viskosität\n",
    "dm = perr #Fehler der Viskosität\n",
    "\n",
    "vlam = (2/9)*9.81*((d-df)/m)*r**2\n",
    "dvlam = (2/9)*9.81*(d-df)*np.sqrt(((2*r*dr)/m)**2+((dm*r**2)/m**2)**2)\n",
    "\n"
   ]
  },
  {
   "cell_type": "code",
   "execution_count": 151,
   "metadata": {
    "collapsed": false
   },
   "outputs": [
    {
     "data": {
      "text/plain": [
       "array([  2.31666298e-11,   1.78821511e-11,   1.56073027e-11,\n",
       "         1.10089897e-11,   7.64513171e-12,   4.89288429e-12,\n",
       "         2.75224741e-12,   1.22322107e-12,   7.32606212e-13])"
      ]
     },
     "execution_count": 151,
     "metadata": {},
     "output_type": "execute_result"
    }
   ],
   "source": [
    "dvlam"
   ]
  },
  {
   "cell_type": "code",
   "execution_count": null,
   "metadata": {
    "collapsed": true
   },
   "outputs": [],
   "source": []
  },
  {
   "cell_type": "code",
   "execution_count": 49,
   "metadata": {
    "collapsed": false
   },
   "outputs": [
    {
     "data": {
      "text/plain": [
       "0.00073315616898421562"
      ]
     },
     "execution_count": 49,
     "metadata": {},
     "output_type": "execute_result"
    }
   ],
   "source": [
    "np.mean(dv9)"
   ]
  },
  {
   "cell_type": "code",
   "execution_count": null,
   "metadata": {
    "collapsed": true
   },
   "outputs": [],
   "source": []
  }
 ],
 "metadata": {
  "kernelspec": {
   "display_name": "Python 3",
   "language": "python",
   "name": "python3"
  },
  "language_info": {
   "codemirror_mode": {
    "name": "ipython",
    "version": 3
   },
   "file_extension": ".py",
   "mimetype": "text/x-python",
   "name": "python",
   "nbconvert_exporter": "python",
   "pygments_lexer": "ipython3",
   "version": "3.6.0"
  }
 },
 "nbformat": 4,
 "nbformat_minor": 1
}
