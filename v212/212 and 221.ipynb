{
 "cells": [
  {
   "cell_type": "code",
   "execution_count": 2,
   "metadata": {
    "collapsed": false,
    "scrolled": false
   },
   "outputs": [
    {
     "name": "stdout",
     "output_type": "stream",
     "text": [
      "\u001b[1mFür Kugeln des Durchmessers 9mm\u001b[0;0m\n",
      "Mittlere Falldauer in s:  12.394 ± 0.105943381105\n",
      "Mittlere Geschwindigkeit in mm/s:  32.2736808133 ± 0.319603267214\n",
      "\n",
      "\u001b[1mFür Kugeln des Durchmessers 8mm\u001b[0;0m\n",
      "Mittlere Falldauer in s:  15.564 ± 0.153831076184\n",
      "Mittlere Geschwindigkeit in mm/s:  25.7003341043 ± 0.284669934759\n",
      "\n",
      "\u001b[1mFür Kugeln des Durchmessers 7.144mm\u001b[0;0m\n",
      "Mittlere Falldauer in s:  17.2 ± 0.0622896460096\n",
      "Mittlere Geschwindigkeit in mm/s:  23.255813953488374 ± 0.143575597106\n",
      "\n",
      "\u001b[1mFür Kugeln des Durchmessers 6mm\u001b[0;0m\n",
      "Mittlere Falldauer in s:  22.986 ± 0.246056903988\n",
      "Mittlere Geschwindigkeit in mm/s:  17.401896806751935 ± 0.205599830295\n",
      "\n",
      "\u001b[1mFür Kugeln des Durchmessers 5mm\u001b[0;0m\n",
      "Mittlere Falldauer in s:  23.574 ± 0.389491976811\n",
      "Mittlere Geschwindigkeit in mm/s:  12.725884448969202 ± 0.226729487644\n",
      "\n",
      "\u001b[1mFür Kugeln des Durchmessers 4mm\u001b[0;0m\n",
      "Mittlere Falldauer in s:  35.809999999999995 ± 0.383249266144\n",
      "Mittlere Geschwindigkeit in mm/s:  8.377548170901983 ± 0.10563141885\n",
      "\n",
      "\u001b[1mFür Kugeln des Durchmessers 3mm\u001b[0;0m\n",
      "Mittlere Falldauer in s:  40.486000000000004 ± 0.282814426789\n",
      "Mittlere Geschwindigkeit in mm/s:  4.939979252087141 ± 0.0602590463496\n",
      "\n",
      "\u001b[1mFür Kugeln des Durchmessers 2mm\u001b[0;0m\n",
      "Mittlere Falldauer in s:  78.284 ± 0.229137513297\n",
      "Mittlere Geschwindigkeit in mm/s:  2.5548004700832863 ± 0.0266199110991\n",
      "\n",
      "\u001b[1mFür Kugeln des Durchmessers 1,5mm\u001b[0;0m\n",
      "Mittlere Falldauer in s:  122.31400000000001 ± 0.916964557657\n",
      "Mittlere Geschwindigkeit in mm/s:  1.635135798028026 ± 0.0204360661611\n"
     ]
    },
    {
     "data": {
      "text/plain": [
       "<matplotlib.text.Text at 0x1f8a0dc7470>"
      ]
     },
     "execution_count": 2,
     "metadata": {},
     "output_type": "execute_result"
    },
    {
     "data": {
      "image/png": "[encoded data removed]",
      "text/plain": [
       "<matplotlib.figure.Figure at 0x1f8a061fe48>"
      ]
     },
     "metadata": {},
     "output_type": "display_data"
    }
   ],
   "source": [
    "%matplotlib inline\n",
    "import matplotlib.pyplot as plt\n",
    "import numpy as np\n",
    "\n",
    "\n",
    "\n",
    "#für 9mm Durchmesser und Fallstrecke 400mm:\n",
    "\n",
    "t9 = np.array([12.46, 12.31, 12.51, 12.46, 12.23])\n",
    "\n",
    "t9_m = sum(t9)/(float(len(t9)))\n",
    "\n",
    "#Standardabweichung als Fehler\n",
    "dt9_m = np.std(t9)\n",
    "\n",
    "v9_m = 400.0/t9_m\n",
    "\n",
    "#relative Fehler aufaddieren\n",
    "dv9_m = v9_m * np.sqrt( (2/400)**2 + (dt9_m/t9_m)**2)\n",
    "\n",
    "print(\"\\033[1m\" + \"Für Kugeln des Durchmessers 9mm\" + \"\\033[0;0m\")\n",
    "print(\"Mittlere Falldauer in s: \", t9_m,  chr(177), dt9_m)\n",
    "print(\"Mittlere Geschwindigkeit in mm/s: \", v9_m, chr(177), dv9_m)\n",
    "\n",
    "#für 8mm Durchmesser und Fallstrecke 400mm:\n",
    "\n",
    "t8 = np.array([15.51, 15.78, 15.61, 15.61, 15.31])\n",
    "\n",
    "t8_m = sum(t8)/(float(len(t8)))\n",
    "\n",
    "dt8_m = np.std(t8)\n",
    "\n",
    "v8_m = 400.0/t8_m\n",
    "\n",
    "dv8_m = v8_m * np.sqrt( (2/400)**2 + (dt8_m/t8_m)**2)\n",
    "\n",
    "print(\"\\n\" + \"\\033[1m\" + \"Für Kugeln des Durchmessers 8mm\" + \"\\033[0;0m\")\n",
    "print(\"Mittlere Falldauer in s: \", t8_m, chr(177), dt8_m)\n",
    "print(\"Mittlere Geschwindigkeit in mm/s: \", v8_m, chr(177), dv8_m)\n",
    "\n",
    "#für 7.144mm Durchmesser und Fallstrecke 400mm:\n",
    "\n",
    "t7 = [17.20, 17.10, 17.18, 17.29, 17.23]\n",
    "\n",
    "t7_m = sum(t7)/(float(len(t7)))\n",
    "\n",
    "dt7_m = np.std(t7)\n",
    "\n",
    "v7_m = 400.0/t7_m\n",
    "\n",
    "dv7_m = v7_m * np.sqrt( (2/400)**2 + (dt7_m/t7_m)**2)\n",
    "\n",
    "print('\\n' + '\\033[1m' + 'Für Kugeln des Durchmessers 7.144mm' + '\\033[0;0m')\n",
    "print(\"Mittlere Falldauer in s: \", t7_m, chr(177), dt7_m)\n",
    "print(\"Mittlere Geschwindigkeit in mm/s: \", v7_m, chr(177), dv7_m)\n",
    "\n",
    "\n",
    "#für 6mm Durchmesser und Fallstrecke 400mm:\n",
    "\n",
    "t6 = [23.39, 22.76, 23.06, 23.02, 22.70]\n",
    "\n",
    "t6_m = sum(t6)/(float(len(t6)))\n",
    "\n",
    "dt6_m = np.std(t6)\n",
    "\n",
    "v6_m = 400.0/t6_m\n",
    "\n",
    "dv6_m = v6_m * np.sqrt( (2/400)**2 + (dt6_m/t6_m)**2)\n",
    "\n",
    "print('\\n' + '\\033[1m' + 'Für Kugeln des Durchmessers 6mm' + '\\033[0;0m')\n",
    "print(\"Mittlere Falldauer in s: \", t6_m, chr(177), dt6_m)\n",
    "print(\"Mittlere Geschwindigkeit in mm/s: \", v6_m, chr(177), dv6_m)\n",
    "\n",
    "#für 5mm Durchmesser und Fallstrecke 300mm:\n",
    "\n",
    "t5 = [23.76, 23.53, 22.87, 23.67, 24.04]\n",
    "\n",
    "t5_m = sum(t5)/(float(len(t5)))\n",
    "\n",
    "dt5_m = np.std(t5)\n",
    "\n",
    "v5_m = 300.0/t5_m\n",
    "\n",
    "dv5_m = v5_m * np.sqrt( (2/300)**2 + (dt5_m/t5_m)**2)\n",
    "\n",
    "print('\\n' + '\\033[1m' + 'Für Kugeln des Durchmessers 5mm' + '\\033[0;0m')\n",
    "print(\"Mittlere Falldauer in s: \", t5_m, chr(177), dt5_m)\n",
    "print(\"Mittlere Geschwindigkeit in mm/s: \", v5_m, chr(177), dv5_m)\n",
    "\n",
    "#für 4mm Durchmesser und Fallstrecke 300mm:\n",
    "\n",
    "t4 = [35.54, 36.50, 35.54, 35.51, 35.96]\n",
    "\n",
    "t4_m = sum(t4)/(float(len(t4)))\n",
    "\n",
    "dt4_m = np.std(t4)\n",
    "\n",
    "v4_m = 300.0/t4_m\n",
    "\n",
    "dv4_m = v4_m * np.sqrt( (2/300)**2 + (dt4_m/t4_m)**2)\n",
    "\n",
    "print('\\n' + '\\033[1m' + 'Für Kugeln des Durchmessers 4mm' + '\\033[0;0m')\n",
    "print(\"Mittlere Falldauer in s: \", t4_m, chr(177), dt4_m)\n",
    "print(\"Mittlere Geschwindigkeit in mm/s: \", v4_m, chr(177), dv4_m)\n",
    "\n",
    "#für 3mm Durchmesser und Fallstrecke 200mm:\n",
    "\n",
    "t3 = [40.12, 40.75, 40.5, 40.84, 40.22]\n",
    "\n",
    "t3_m = sum(t3)/(float(len(t3)))\n",
    "\n",
    "dt3_m = np.std(t3)\n",
    "\n",
    "v3_m = 200.0/t3_m\n",
    "\n",
    "dv3_m = v3_m * np.sqrt( (2/200)**2 + (dt3_m/t3_m)**2)\n",
    "\n",
    "print('\\n' + '\\033[1m' + 'Für Kugeln des Durchmessers 3mm' + '\\033[0;0m')\n",
    "print(\"Mittlere Falldauer in s: \", t3_m, chr(177), dt3_m)\n",
    "print(\"Mittlere Geschwindigkeit in mm/s: \", v3_m, chr(177), dv3_m)\n",
    "\n",
    "#für 2mm Durchmesser und Fallstrecke 200mm:\n",
    "\n",
    "t2 = [78.53, 78.20, 78.32, 78.48, 77.89]\n",
    "\n",
    "t2_m = sum(t2)/(float(len(t2)))\n",
    "\n",
    "dt2_m = np.std(t2)\n",
    "\n",
    "v2_m = 200.0/t2_m\n",
    "\n",
    "dv2_m = v2_m * np.sqrt( (2/200)**2 + (dt2_m/t2_m)**2)\n",
    "\n",
    "print('\\n' + '\\033[1m' + 'Für Kugeln des Durchmessers 2mm' + '\\033[0;0m')\n",
    "print(\"Mittlere Falldauer in s: \", t2_m, chr(177), dt2_m)\n",
    "print(\"Mittlere Geschwindigkeit in mm/s: \", v2_m, chr(177), dv2_m)\n",
    "\n",
    "\n",
    "#für 1,5mm Durchmesser und Fallstrecke 200mm:\n",
    "\n",
    "t15 = [121.64, 122.12, 124.09, 121.59, 122.13]\n",
    "\n",
    "t15_m = sum(t15)/(float(len(t15)))\n",
    "\n",
    "dt15_m = np.std(t15)\n",
    "\n",
    "v15_m = 200.0/t15_m\n",
    "\n",
    "dv15_m = v15_m * np.sqrt( (2/200)**2 + (dt15_m/t15_m)**2)\n",
    "\n",
    "print('\\n' + '\\033[1m' + 'Für Kugeln des Durchmessers 1,5mm' + '\\033[0;0m')\n",
    "print(\"Mittlere Falldauer in s: \", t15_m, chr(177), dt15_m)\n",
    "print(\"Mittlere Geschwindigkeit in mm/s: \", v15_m, chr(177), dv15_m)\n",
    "\n",
    "#Dichte des Polyethylenglykols bei 21°C in g/cm^3\n",
    "dichte21 = 1.1487\n",
    "#Dichte des Polyethylenglykols bei 22°C in g/cm^3\n",
    "dichte22 = 1.1476\n",
    "\n",
    "dateny = np.array([v9_m/(1.3625 - dichte21), v8_m/(1.3575 - dichte21), v7_m/(1.3775 - dichte21), v6_m/(1.3775 - dichte21),\n",
    "                   v5_m/(1.3775 - dichte21), v4_m/(1.3775 - dichte21), v3_m/(1.3775 - dichte21), v2_m/(1.3775 - dichte22),\n",
    "                   v15_m/(1.3925 - dichte22)])\n",
    "\n",
    "datenx = np.array([(9/2)**2, (8/2)**2, (7.144/2)**2, (6/2)**2, (5/2)**2, (4/2)**2, (3/2)**2, (2/2)**2, (1.5/2)**2])\n",
    "\n",
    "#mit Korrekturfaktor lambda\n",
    "datenyk = np.array([(1+2.1*(4.5/37.5))*v9_m/(1.3625 - dichte21), (1+2.1*(4/37.5))*v8_m/(1.3575 - dichte21),\n",
    "                    (1+2.1*((7.144/2)/37.5))*v7_m/(1.3775 - dichte21), (1+2.1*(3/37.5))*v6_m/(1.3775 - dichte21),\n",
    "                   (1+2.1*(2.5/37.5))*v5_m/(1.3775 - dichte21), (1+2.1*(2/37.5))*v4_m/(1.3775 - dichte21), \n",
    "                    (1+2.1*(1.5/37.5))*v3_m/(1.3775 - dichte21), (1+2.1*(1/37.5))*v2_m/(1.3775 - dichte22),\n",
    "                   (1+2.1*(0.75/37.5))*v15_m/(1.3925 - dichte22)])\n",
    "\n",
    "\n",
    "                   \n",
    "plt.scatter(datenx, dateny, s=1)\n",
    "plt.scatter(datenx, datenyk, s=1, color = 'r')\n",
    "plt.title(\"Stokes (rot: mit Korrekturfaktor)\")\n",
    "plt.ylabel(\"\")\n",
    "plt.xlabel(\"r^2 in mm^2\")\n",
    "\n",
    "\n"
   ]
  },
  {
   "cell_type": "code",
   "execution_count": 3,
   "metadata": {
    "collapsed": false
   },
   "outputs": [
    {
     "name": "stdout",
     "output_type": "stream",
     "text": [
      "Viskosität:  0.190618717979 ± 0.00314134833854\n",
      "Anstieg in cm^2/(10*g * s) :  11.4364424602 ± 0.188469683891\n"
     ]
    },
    {
     "data": {
      "image/png": "[encoded data removed]",
      "text/plain": [
       "<matplotlib.figure.Figure at 0x1f8a0ff3668>"
      ]
     },
     "metadata": {},
     "output_type": "display_data"
    }
   ],
   "source": [
    "#Fehler der Geschwindigkeiten, muss durch Ursprung verlaufen!\n",
    "fehlervk = np.array([ dv9_m, dv8_m, dv7_m, dv6_m, dv5_m, dv4_m, dv3_m, dv2_m, dv15_m, 0.000001])\n",
    "\n",
    "fehler2=np.array([3.2767147646, 2.6759687451, 1.7317178754, 1.995701254, 1.6339199972\n",
    "                     , 0.9082625587, 0.4797484611, 0.2329947419, 0.1149028922, 0.0000001])\n",
    "\n",
    "\n",
    "#Ursprung hinzugefügt\n",
    "fitx = np.array([ (9/2)**2, (8/2)**2, (7.144/2)**2, (6/2)**2, (5/2)**2, (4/2)**2, (3/2)**2, (2/2)**2, (1.5/2)**2\n",
    "                 ,0])\n",
    "\n",
    "fity = np.array([(1+2.1*(9.0/37.5))*v9_m/(1.3625 - dichte21), (1+2.1*(8/37.5))*v8_m/(1.3575 - dichte21),\n",
    "                    (1+2.1*(7/37.5))*v7_m/(1.3775 - dichte21), (1+2.1*(6/37.5))*v6_m/(1.3775 - dichte21),\n",
    "                   (1+2.1*(5/37.5))*v5_m/(1.3775 - dichte21), (1+2.1*(4/37.5))*v4_m/(1.3775 - dichte21), \n",
    "                    (1+2.1*(3/37.5))*v3_m/(1.3775 - dichte21), (1+2.1*(2/37.5))*v2_m/(1.3775 - dichte22),\n",
    "                   (1+2.1*(1.5/37.5))*v15_m/(1.3925 - dichte22),0 ])\n",
    "\n",
    "#Fitfunktion ist Gerade mit Steigung m\n",
    "from scipy.optimize import curve_fit\n",
    "def fit_func(x, m):\n",
    "    return m*x\n",
    "\n",
    "popt, pcov = curve_fit(fit_func, fitx, fity, sigma=fehler2)\n",
    "#Formel 7, Skript Seite 4\n",
    "print(\"Viskosität: \" , (1/popt[0])*(2/9)*9.81, chr(177), (1/popt[0])*(2/9)*9.81*(np.sqrt(pcov[0][0])/popt[0]))\n",
    "x = np.linspace(0, 22, 2)\n",
    "plt.plot(x, fit_func(x, *popt))\n",
    "plt.scatter(0, 0, s=3, color = 'r')\n",
    "\n",
    "#nur aufgenommene daten\n",
    "fehler = np.array([ dv9_m, dv8_m, dv7_m, dv6_m, dv5_m, dv4_m, dv3_m, dv2_m, dv15_m])\n",
    "\n",
    "\n",
    "fehler2y=np.array([3.2767147646, 2.6759687451, 1.7317178754, 1.995701254, 1.6339199972\n",
    "                     , 0.9082625587, 0.4797484611, 0.2329947419, 0.1149028922])\n",
    "\n",
    "plt.errorbar(datenx, datenyk, xerr= 0, yerr=fehler2y, fmt='.')\n",
    "plt.title(\"Viskosität durch Fit\")\n",
    "plt.xlabel(\"r^2 in mm^2\")\n",
    "plt.ylabel(\"v_s /(rho_k - rho_f)\")\n",
    "\n",
    "visk = (1/popt[0])*(2/9)*9.81\n",
    "\n",
    "print(\"Anstieg in cm^2/(10*g * s) : \",popt[0], chr(177), np.sqrt(pcov[0][0]))"
   ]
  },
  {
   "cell_type": "code",
   "execution_count": 4,
   "metadata": {
    "collapsed": false,
    "scrolled": true
   },
   "outputs": [
    {
     "data": {
      "text/plain": [
       "array([  2.43132086e-01,   9.30698329e-02,   5.14067029e-04,\n",
       "        -2.01211084e-01,  -4.16300943e-01,  -6.94781998e-01,\n",
       "        -1.04911254e+00,  -1.51198802e+00,  -1.83072992e+00])"
      ]
     },
     "execution_count": 4,
     "metadata": {},
     "output_type": "execute_result"
    },
    {
     "data": {
      "image/png": "[encoded data removed]",
      "text/plain": [
       "<matplotlib.figure.Figure at 0x1f8a18c7898>"
      ]
     },
     "metadata": {},
     "output_type": "display_data"
    }
   ],
   "source": [
    "Re = np.array([dichte21 * v9_m * 9/visk, dichte21 * v8_m * 8/visk, dichte21 * v7_m * 7.144/visk,\n",
    "               dichte21 * v6_m * 6/visk, dichte21 * v5_m * 5/visk, dichte21 * v4_m * 4/visk,\n",
    "               dichte21 * v3_m * 3/visk, dichte22 * v2_m * 2/visk, dichte22 * v15_m * 1.5/visk])\n",
    "\n",
    "#Formel 14, Seite 6 des Skripts\n",
    "vlam = np.array([(1.3625 - dichte21)*(2/9)*(9.81/visk)*(9/2)**2, (1.3575 - dichte21)*(2/9)*(9.81/visk)*(8/2)**2,\n",
    "                    (1.3775 - dichte21)*(2/9)*(9.81/visk)*(7.144/2)**2, (1.3775 - dichte21)*(2/9)*(9.81/visk)*(6/2)**2,\n",
    "                   (1.3775 - dichte21)*(2/9)*(9.81/visk)*(5/2)**2, (1.3775 - dichte21)*(2/9)*(9.81/visk)*(4/2)**2, \n",
    "                    (1.3775 - dichte21)*(2/9)*(9.81/visk)*(3/2)**2, (1.3775 - dichte22)*(2/9)*(9.81/visk)*(2/2)**2,\n",
    "                   (1.3925 - dichte22)*(2/9)*(9.81/visk)*(1.5/2)**2])\n",
    "\n",
    "v = np.array([v9_m, v8_m, v7_m, v6_m, v5_m, v4_m, v3_m, v2_m, v15_m])\n",
    "\n",
    "fehler3y = np.array([0.0261525117,\n",
    "0.027172914,\n",
    "0.0271796861,\n",
    "0.0315986952,\n",
    "0.0342878257,\n",
    "0.0347842753,\n",
    "0.035182434,\n",
    "0.0402707532,\n",
    "0.0417919715\n",
    "])\n",
    "\n",
    "fehler3x =np.array([0.0666058099,\n",
    "0.0473758028,\n",
    "0.0372106312,\n",
    "0.0258473445,\n",
    "0.0165244559,\n",
    "0.0083114591,\n",
    "0.0035912962,\n",
    "0.0012219299,\n",
    "0.0005715805\n",
    "])\n",
    "\n",
    "plt.errorbar(np.log10(Re/1000), v/vlam, xerr=(1000/Re)*fehler3x ,yerr=fehler3y ,fmt=\".\")\n",
    "plt.title(\"kritische Reynoldszahl\")\n",
    "plt.xlabel(\"log(Re)\")\n",
    "plt.ylabel(\"v/v_lam\")\n",
    "\n",
    "np.log10(Re/1000)"
   ]
  },
  {
   "cell_type": "code",
   "execution_count": 5,
   "metadata": {
    "collapsed": false
   },
   "outputs": [
    {
     "name": "stdout",
     "output_type": "stream",
     "text": [
      "p1 - p2.              5932.942812\n",
      "Fehler p1 - p2:       9.78320648803\n",
      "Volumenstrom:         3.699319325244156e-08\n",
      "Fehler Volumenstrom:  7.40369942465e-10\n",
      "Viskosität:           0.19927521217140534\n",
      "Fehler Viskosität:    0.00672646856453\n",
      "Reynoldszahl:         0.1808331053140606\n",
      "Fehler Reynoldszahl:  0.00593029279759\n"
     ]
    }
   ],
   "source": [
    "rhopol = 1.1476*1000\n",
    "hgemit = 52.7/100\n",
    "Vol = 25/1000000\n",
    "zeit =675.8\n",
    "Lange = 10/100\n",
    "Rad = 0.075/100\n",
    "\n",
    "d_rhopol = 0.0011*1000\n",
    "d_hgemit = 1/(np.sqrt(2))*0.1/100\n",
    "d_Vol = 0.5/1000000\n",
    "d_zeit = 0.5\n",
    "d_Lange = 0.05/100\n",
    "d_Rad = 0.0005/100\n",
    "\n",
    "\n",
    "print(\"p1 - p2.             \",hgemit*9.81*rhopol)\n",
    "\n",
    "\n",
    "print(\"Fehler p1 - p2:      \", 9.81*np.sqrt((hgemit*d_rhopol)**2+(rhopol*d_hgemit)**2))\n",
    "\n",
    "Volzeit = Vol/zeit\n",
    "d_Volzeit = np.sqrt((d_Vol/zeit)**2+(Vol*d_zeit/((zeit)**2))**2)\n",
    "\n",
    "print(\"Volumenstrom:        \", Volzeit)\n",
    "\n",
    "print(\"Fehler Volumenstrom: \",d_Volzeit)\n",
    "\n",
    "print(\"Viskosität:          \",np.pi*(rhopol*9.81*hgemit)*Rad**4/(8*Vol/zeit*Lange))\n",
    "\n",
    "visc = np.pi*(rhopol*9.81*hgemit)*Rad**4/(8*Vol/zeit*Lange)\n",
    "\n",
    "d_visc = 0.005\n",
    "\n",
    "print(\"Fehler Viskosität:   \", np.pi*9.81*np.sqrt((d_rhopol*hgemit*Rad**4/(8*Volzeit*Lange))**2+\n",
    "             (rhopol*d_hgemit*Rad**4/(8*Volzeit*Lange))**2+\n",
    "             (rhopol*hgemit*4*(Rad**3)*d_Rad/(8*Volzeit*Lange))**2+\n",
    "             (rhopol*hgemit*(Rad)**4*d_Volzeit/(8*(Volzeit**2)*Lange))**2+\n",
    "             (rhopol*hgemit*(Rad**4)*d_Lange/(8*Volzeit*(Lange)**2))**2))\n",
    "\n",
    "print(\"Reynoldszahl:        \", 2*rhopol*Volzeit/(visc*Rad*np.pi))\n",
    "\n",
    "print(\"Fehler Reynoldszahl: \", 2/(np.pi)*np.sqrt((d_rhopol*Volzeit/(visc*Rad))**2+\n",
    "                                             (rhopol*d_Volzeit/(visc*Rad))**2+\n",
    "                                             (rhopol*Volzeit*d_visc/(visc**2*Rad))**2+\n",
    "                                             (rhopol*Volzeit*d_Rad/(visc*Rad**2))**2))\n",
    "             "
   ]
  },
  {
   "cell_type": "code",
   "execution_count": 6,
   "metadata": {
    "collapsed": false
   },
   "outputs": [
    {
     "data": {
      "text/plain": [
       "0.0065982067152700581"
      ]
     },
     "execution_count": 6,
     "metadata": {},
     "output_type": "execute_result"
    }
   ],
   "source": [
    "visc * np.sqrt((0.0005/0.1)**2 + (4*0.00001/0.0015)**2 + ((7*10e-10)/(3.7*10e-8))**2 + (9/5930)**2)"
   ]
  },
  {
   "cell_type": "code",
   "execution_count": 7,
   "metadata": {
    "collapsed": false
   },
   "outputs": [
    {
     "data": {
      "text/plain": [
       "1e-19"
      ]
     },
     "execution_count": 7,
     "metadata": {},
     "output_type": "execute_result"
    }
   ],
   "source": [
    "10e-20"
   ]
  },
  {
   "cell_type": "code",
   "execution_count": 21,
   "metadata": {
    "collapsed": false
   },
   "outputs": [
    {
     "name": "stdout",
     "output_type": "stream",
     "text": [
      "Koeffizient  0 :  1.25773195876 ± 0.0187181717253\n",
      "Koeffizient  1 :  1.28125 ± 0.0193239870829\n",
      "Koeffizient  2 :  1.31 ± 0.0190378570223\n",
      "Koeffizient  3 :  1.28865979381 ± 0.019253628455\n",
      "Koeffizient  4 :  1.27659574468 ± 0.0196518008793\n",
      "Gemittelter Koeffizient:  1.28284749945 ± 0.0169909851279\n",
      "Fehler aus einzelnen Messungen des Ad.koeff:  0.0085863191555\n",
      "Ad koeff für Argon:  1.6089365564480447\n",
      "Fehler Ad koeff für Luft:  0.0290867081615\n",
      "Ad koeff für Luft:  1.4412839568658267\n",
      "Fehler Ad koeff für Luft:  0.0254069612137\n"
     ]
    }
   ],
   "source": [
    "#Höhe linker Schenkel am Anfang\n",
    "hla = np.array([41.1, 41.0, 40.7, 41.0, 41.2])\n",
    "hra = np.array([53.3, 53.3, 53.8, 53.5, 53.2])\n",
    "\n",
    "#Höhe rechter Schenkel am Ende\n",
    "hle = np.array([46.0, 45.9, 45.7, 45.8, 45.9])\n",
    "hre = np.array([48.5, 48.6, 48.8, 48.6, 48.5])\n",
    "\n",
    "koeffizient = np.array([0.0, 0.0, 0.0, 0.0, 0.0])\n",
    "fehler = np.array([0.0, 0.0, 0.0, 0.0, 0.0])\n",
    "\n",
    "for i in range(0,5):\n",
    "    koeffizient[i] = (hra[i]-hla[i])/(hra[i]-hla[i] - hre[i] + hle[i])\n",
    "    fehler[i] = np.sqrt((0.1 *((hle[i] - hre[i])/((hra[i] - hla[i] - hre[i] + hle[i])**2) ))**2\n",
    "                      + (0.1 *((hle[i] - hre[i])/((hra[i] - hla[i] - hre[i] + hle[i])**2) ))**2\n",
    "                      + (0.1 *((hra[i] - hla[i])/((hra[i] - hla[i] - hre[i] + hle[i])**2) ))**2\n",
    "                      + (0.1 *((hra[i] - hla[i])/((hra[i] - hla[i] - hre[i] + hle[i])**2) ))**2)\n",
    "    \n",
    "for j in range(0,5):\n",
    "    print(\"Koeffizient \", j , \": \", koeffizient[j], chr(177), fehler[j])\n",
    "\n",
    "#Koeffizient mit Fehler aus Standardabweichung\n",
    "print(\"Gemittelter Koeffizient: \", np.mean(koeffizient), chr(177), np.std(koeffizient))\n",
    "\n",
    "d_mittkoeff = 0.2 * np.sqrt(fehler[0]**2+fehler[1]**2+fehler[2]**2+fehler[3]**2+fehler[4]**2)\n",
    "    \n",
    "print(\"Fehler aus einzelnen Messungen des Ad.koeff: \", d_mittkoeff)\n",
    "\n",
    "m = 0.026006\n",
    "d_m = 0.000002\n",
    "t = 46.14/50 #Periode\n",
    "d_t = 0.3/50\n",
    "V = 5460e-6\n",
    "d_V = 5e-6\n",
    "r = 15.97e-3/2\n",
    "d_r = 0.05e-3/2\n",
    "p = 1019.7 *100\n",
    "d_p = 0.2*100\n",
    "\n",
    "m2 = 0.026116\n",
    "d_m2 = 0.000002\n",
    "t2 = 48.57/50 #Periode\n",
    "d_t2 = 0.3/50\n",
    "V2 = 5370e-6\n",
    "d_V2 = 5e-6\n",
    "r2 = 15.95e-3/2\n",
    "d_r2 = 0.05e-3/2\n",
    "p2 = 1019.7 *100\n",
    "d_p2 = 0.2*100\n",
    "\n",
    "kargon= 4*m*V/((r**4)*(t**2)*p)\n",
    "kl= 4*m2*V2/((r2**4)*(t2**2)*p2)\n",
    "\n",
    "d_kargon = kargon *np.sqrt((d_m/m)**2+(d_V/V)**2+(4*d_r/r)**2+(2*d_t/t)**2+(d_p/p)**2)\n",
    "d_kl = kl *np.sqrt((d_m2/m2)**2+(d_V2/V2)**2+(4*d_r2/r2)**2+(2*d_t2/t2)**2+(d_p2/p2)**2)\n",
    "\n",
    "\n",
    "print(\"Ad koeff für Argon: \",  kargon)\n",
    "print(\"Fehler Ad koeff für Luft: \",  d_kargon)\n",
    "print(\"Ad koeff für Luft: \",  kl)\n",
    "print(\"Fehler Ad koeff für Luft: \",  d_kl)\n"
   ]
  },
  {
   "cell_type": "code",
   "execution_count": null,
   "metadata": {
    "collapsed": true
   },
   "outputs": [],
   "source": []
  }
 ],
 "metadata": {
  "anaconda-cloud": {},
  "kernelspec": {
   "display_name": "Python 2",
   "language": "python",
   "name": "python2"
  },
  "language_info": {
   "codemirror_mode": {
    "name": "ipython",
    "version": 2
   },
   "file_extension": ".py",
   "mimetype": "text/x-python",
   "name": "python",
   "nbconvert_exporter": "python",
   "pygments_lexer": "ipython2",
   "version": "2.7.11"
  }
 },
 "nbformat": 4,
 "nbformat_minor": 1
}
