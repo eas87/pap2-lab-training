{
 "cells": [
  {
   "cell_type": "markdown",
   "metadata": {},
   "source": [
    "# PAP2 V255: Röntgenspektrometer"
   ]
  },
  {
   "cell_type": "markdown",
   "metadata": {},
   "source": [
    "Erstellung der Plots für das Laborbuch"
   ]
  },
  {
   "cell_type": "code",
   "execution_count": null,
   "metadata": {
    "collapsed": true
   },
   "outputs": [],
   "source": [
    "#Aufgabe 1: Messung des Röntgenspektrums\n",
    "\n",
    "#Import von allen benötigten Modulen\n",
    "%matplotlib inline\n",
    "import matplotlib.pyplot as plt\n",
    "import numpy as np\n",
    "from scipy.optimize import curve_fit\n",
    "\n",
    "\n",
    "#Einlesen der Daten aus Tabelle 1\n",
    "phi, count = np.loadtxt('LiF.txt', usecols=(0,1), unpack=True)\n",
    "\n",
    "# Definition der Ausgleichsgerade y=f(x)\n",
    "#def linear(x, m, t): \n",
    "#    return m*x + t\n",
    "\n",
    "#Bester Fit an die Geraden \n",
    "#popt, pcov = curve_fit(linear, f, U1)\n",
    "\n",
    "#Abweichung ist Wurzel aus Diagonalelementen der Kovarianzmatrix\n",
    "#perr = np.sqrt(np.diag(pcov))\n",
    "\n",
    "#Zeichnen der Messwerte mit Fehler und Plot\n",
    "plt.errorbar(phi, count, linestyle='None', marker='.', label='Messwerte', yerr=np.sqrt(count))\n",
    "#x = np.linspace(0,16,10)\n",
    "#plt.plot(x, linear(x, *popt), linestyle='--', label='$Steigung: \\; m_{fit}=%.2f \\pm%.2f $' %(popt[0], perr[0]))\n",
    "\n",
    "#Eigenschaften des Plots: Achsen, Beschriftungen, Gitternetz\n",
    "plt.rcParams[\"figure.figsize\"][0] = 9\n",
    "plt.rcParams[\"figure.figsize\"][1] = 6\n",
    "plt.rcParams[\"font.family\"]='serif'\n",
    "plt.axis([0,16,-1,13])\n",
    "plt.xlabel('Frequenz $f [Hz]$')\n",
    "plt.ylabel('Gemessene Induktionsspannung $U_{Induktion} [V]$')\n",
    "plt.title('Diagramm 1a: Induktionsspannung abh. von Frequenz $U_{Induktion}(f)$ (Tabelle1)')\n",
    "plt.legend(title='Messwerte und Linearer Fit', loc='best', borderpad=1, borderaxespad=1, shadow='true', fontsize='medium')\n",
    "plt.grid(True)\n",
    "\n",
    "\n",
    "#Speichern des Plots\n",
    "#plt.savefig('v245_1a.pdf', format='pdf')"
   ]
  },
  {
   "cell_type": "code",
   "execution_count": null,
   "metadata": {
    "collapsed": true
   },
   "outputs": [],
   "source": []
  }
 ],
 "metadata": {
  "anaconda-cloud": {}
 },
 "nbformat": 4,
 "nbformat_minor": 0
}
