{
 "cells": [
  {
   "cell_type": "markdown",
   "metadata": {
    "collapsed": true
   },
   "source": [
    "# PAP2 V255: Röntgenspektrometer"
   ]
  },
  {
   "cell_type": "markdown",
   "metadata": {
    "collapsed": true
   },
   "source": [
    "VII Auswertung\n",
    "1.\n",
    "a) Extrapolieren sie den einigermaßen geraden Anstieg am kurzwelligen Ende bis zum Untergrund. Versehen Sie die betreffenden Punkte mit statisti- schen Fehlern. Bestimmen Sie so die Grenzwellenla ̈nge des Bremsspek- trums von 35 kV und daraus die Plank’sche Konstante h. Berechnen Sie aus der Stelle des Beginns des Spektrums, ab welchen Winkel das Spek- trum zweiter Ordnung einsetzt.\n",
    "\n",
    "b) Tragen Sie die Za ̈hlrate als Funktion des Winkels β fu ̈r die vier Linien auf und bestimmen sie die Wellenla ̈nge von Kα und Kβ aus den Messungen in beiden Ordnungen. Bestimmen Sie fu ̈r Kα in erster Ordnung die Halb- wertsbreite (Breite der Linie in halber Ho ̈he).\n",
    "Dichte Molekulargewicht Netzebenenabstand\n",
    "\n",
    "c) Bestimmen Sie durch Extrapolation die Einsatzspannung, d.h. die Span- nung, oberhalb der es Quanten gibt, deren Wellenla ̈nge zu β = 7,5◦ geho ̈rt. Berechnen Sie aus diesem Wert wieder h. Theoretisch ist diese sog. Iso- chromatenmethode, die hier zur h Bestimmung benutzt wird, der Extrapo- lation des kurzwelligen Endes des Spektrums in Aufgabe 2a) a ̈quivalent. Die Spektrumsextrapolation ist aber in der Praxis ungenauer, da dort Messpunkte unterschiedlicher Wellenla ̈nge benutzt werden, die individuell z.B. auf Eigenabsorption in der Anode, dem Ro ̈hrenfenster usw. sowie auf das unterschiedliche Reflexionsvermo ̈gen des Kristalls korrigiert werden mu ̈ssten.\n",
    "\n",
    "2.\n",
    "Ermitteln Sie aus dem Spektrum die Lage der Kα und Kβ-Linien und berechnen Sie mit den in 1b) gewonnenen Wellenla ̈ngen fu ̈r Kα und Kβ die Gitterkonstante von NaCl sowie die Avogadro Zahl.\n"
   ]
  },
  {
   "cell_type": "code",
   "execution_count": 1,
   "metadata": {
    "collapsed": false
   },
   "outputs": [
    {
     "ename": "ValueError",
     "evalue": "invalid literal for float(): 3,000",
     "output_type": "error",
     "traceback": [
      "\u001b[0;31m----------------------------------------------------------------------\u001b[0m",
      "\u001b[0;31mValueError\u001b[0m                           Traceback (most recent call last)",
      "\u001b[0;32m<ipython-input-1-1292b5031585>\u001b[0m in \u001b[0;36m<module>\u001b[0;34m()\u001b[0m\n\u001b[1;32m      9\u001b[0m \u001b[0;34m\u001b[0m\u001b[0m\n\u001b[1;32m     10\u001b[0m \u001b[0;31m#Einlesen der Daten aus Tabelle 1\u001b[0m\u001b[0;34m\u001b[0m\u001b[0;34m\u001b[0m\u001b[0m\n\u001b[0;32m---> 11\u001b[0;31m \u001b[0mphi\u001b[0m\u001b[0;34m,\u001b[0m \u001b[0mcount\u001b[0m \u001b[0;34m=\u001b[0m \u001b[0mnp\u001b[0m\u001b[0;34m.\u001b[0m\u001b[0mloadtxt\u001b[0m\u001b[0;34m(\u001b[0m\u001b[0;34m'LiF.txt'\u001b[0m\u001b[0;34m,\u001b[0m \u001b[0musecols\u001b[0m\u001b[0;34m=\u001b[0m\u001b[0;34m(\u001b[0m\u001b[0;36m0\u001b[0m\u001b[0;34m,\u001b[0m\u001b[0;36m1\u001b[0m\u001b[0;34m)\u001b[0m\u001b[0;34m,\u001b[0m \u001b[0munpack\u001b[0m\u001b[0;34m=\u001b[0m\u001b[0mTrue\u001b[0m\u001b[0;34m)\u001b[0m\u001b[0;34m\u001b[0m\u001b[0m\n\u001b[0m\u001b[1;32m     12\u001b[0m \u001b[0;34m\u001b[0m\u001b[0m\n\u001b[1;32m     13\u001b[0m \u001b[0;31m# Definition der Ausgleichsgerade y=f(x)\u001b[0m\u001b[0;34m\u001b[0m\u001b[0;34m\u001b[0m\u001b[0m\n",
      "\u001b[0;32m/Users/Oskar/anaconda/lib/python2.7/site-packages/numpy/lib/npyio.pyc\u001b[0m in \u001b[0;36mloadtxt\u001b[0;34m(fname, dtype, comments, delimiter, converters, skiprows, usecols, unpack, ndmin)\u001b[0m\n\u001b[1;32m    928\u001b[0m \u001b[0;34m\u001b[0m\u001b[0m\n\u001b[1;32m    929\u001b[0m             \u001b[0;31m# Convert each value according to its column and store\u001b[0m\u001b[0;34m\u001b[0m\u001b[0;34m\u001b[0m\u001b[0m\n\u001b[0;32m--> 930\u001b[0;31m             \u001b[0mitems\u001b[0m \u001b[0;34m=\u001b[0m \u001b[0;34m[\u001b[0m\u001b[0mconv\u001b[0m\u001b[0;34m(\u001b[0m\u001b[0mval\u001b[0m\u001b[0;34m)\u001b[0m \u001b[0;32mfor\u001b[0m \u001b[0;34m(\u001b[0m\u001b[0mconv\u001b[0m\u001b[0;34m,\u001b[0m \u001b[0mval\u001b[0m\u001b[0;34m)\u001b[0m \u001b[0;32min\u001b[0m \u001b[0mzip\u001b[0m\u001b[0;34m(\u001b[0m\u001b[0mconverters\u001b[0m\u001b[0;34m,\u001b[0m \u001b[0mvals\u001b[0m\u001b[0;34m)\u001b[0m\u001b[0;34m]\u001b[0m\u001b[0;34m\u001b[0m\u001b[0m\n\u001b[0m\u001b[1;32m    931\u001b[0m             \u001b[0;31m# Then pack it according to the dtype's nesting\u001b[0m\u001b[0;34m\u001b[0m\u001b[0;34m\u001b[0m\u001b[0m\n\u001b[1;32m    932\u001b[0m             \u001b[0mitems\u001b[0m \u001b[0;34m=\u001b[0m \u001b[0mpack_items\u001b[0m\u001b[0;34m(\u001b[0m\u001b[0mitems\u001b[0m\u001b[0;34m,\u001b[0m \u001b[0mpacking\u001b[0m\u001b[0;34m)\u001b[0m\u001b[0;34m\u001b[0m\u001b[0m\n",
      "\u001b[0;32m/Users/Oskar/anaconda/lib/python2.7/site-packages/numpy/lib/npyio.pyc\u001b[0m in \u001b[0;36mfloatconv\u001b[0;34m(x)\u001b[0m\n\u001b[1;32m    657\u001b[0m         \u001b[0;32mif\u001b[0m \u001b[0;34mb'0x'\u001b[0m \u001b[0;32min\u001b[0m \u001b[0mx\u001b[0m\u001b[0;34m:\u001b[0m\u001b[0;34m\u001b[0m\u001b[0m\n\u001b[1;32m    658\u001b[0m             \u001b[0;32mreturn\u001b[0m \u001b[0mfloat\u001b[0m\u001b[0;34m.\u001b[0m\u001b[0mfromhex\u001b[0m\u001b[0;34m(\u001b[0m\u001b[0masstr\u001b[0m\u001b[0;34m(\u001b[0m\u001b[0mx\u001b[0m\u001b[0;34m)\u001b[0m\u001b[0;34m)\u001b[0m\u001b[0;34m\u001b[0m\u001b[0m\n\u001b[0;32m--> 659\u001b[0;31m         \u001b[0;32mreturn\u001b[0m \u001b[0mfloat\u001b[0m\u001b[0;34m(\u001b[0m\u001b[0mx\u001b[0m\u001b[0;34m)\u001b[0m\u001b[0;34m\u001b[0m\u001b[0m\n\u001b[0m\u001b[1;32m    660\u001b[0m \u001b[0;34m\u001b[0m\u001b[0m\n\u001b[1;32m    661\u001b[0m     \u001b[0mtyp\u001b[0m \u001b[0;34m=\u001b[0m \u001b[0mdtype\u001b[0m\u001b[0;34m.\u001b[0m\u001b[0mtype\u001b[0m\u001b[0;34m\u001b[0m\u001b[0m\n",
      "\u001b[0;31mValueError\u001b[0m: invalid literal for float(): 3,000"
     ]
    }
   ],
   "source": [
    "#Aufgabe 1: Messung des Röntgenspektrums\n",
    "\n",
    "#Import von allen benötigten Modulen\n",
    "%matplotlib inline\n",
    "import matplotlib.pyplot as plt\n",
    "import numpy as np\n",
    "from scipy.optimize import curve_fit\n",
    "\n",
    "\n",
    "#Einlesen der Daten aus Tabelle 1\n",
    "phi, count = np.loadtxt('LiF.txt', usecols=(0,1), unpack=True)\n",
    "\n",
    "# Definition der Ausgleichsgerade y=f(x)\n",
    "#def linear(x, m, t): \n",
    "#    return m*x + t\n",
    "\n",
    "#Bester Fit an die Geraden \n",
    "#popt, pcov = curve_fit(linear, f, U1)\n",
    "\n",
    "#Abweichung ist Wurzel aus Diagonalelementen der Kovarianzmatrix\n",
    "#perr = np.sqrt(np.diag(pcov))\n",
    "\n",
    "#Zeichnen der Messwerte mit Fehler und Plot\n",
    "plt.errorbar(phi, count, linestyle='None', marker='.', label='Messwerte', yerr=np.sqrt(count))\n",
    "#x = np.linspace(0,16,10)\n",
    "#plt.plot(x, linear(x, *popt), linestyle='--', label='$Steigung: \\; m_{fit}=%.2f \\pm%.2f $' %(popt[0], perr[0]))\n",
    "\n",
    "#Eigenschaften des Plots: Achsen, Beschriftungen, Gitternetz\n",
    "plt.rcParams[\"figure.figsize\"][0] = 9\n",
    "plt.rcParams[\"figure.figsize\"][1] = 6\n",
    "plt.rcParams[\"font.family\"]='serif'\n",
    "plt.axis([0,16,-1,13])\n",
    "plt.xlabel('Frequenz $f [Hz]$')\n",
    "plt.ylabel('Gemessene Induktionsspannung $U_{Induktion} [V]$')\n",
    "plt.title('Diagramm 1a: Induktionsspannung abh. von Frequenz $U_{Induktion}(f)$ (Tabelle1)')\n",
    "plt.legend(title='Messwerte und Linearer Fit', loc='best', borderpad=1, borderaxespad=1, shadow='true', fontsize='medium')\n",
    "plt.grid(True)\n",
    "\n",
    "\n",
    "#Speichern des Plots\n",
    "#plt.savefig('v245_1a.pdf', format='pdf')"
   ]
  },
  {
   "cell_type": "code",
   "execution_count": 1,
   "metadata": {
    "collapsed": false
   },
   "outputs": [
    {
     "name": "stdout",
     "output_type": "stream",
     "text": [
      "Object `np.loadtxt` not found.\n"
     ]
    }
   ],
   "source": [
    "np.loadtxt?"
   ]
  },
  {
   "cell_type": "markdown",
   "metadata": {},
   "source": [
    "Aufgabe 2"
   ]
  }
 ],
 "metadata": {
  "anaconda-cloud": {},
  "kernelspec": {
   "display_name": "Python [Root]",
   "language": "python",
   "name": "Python [Root]"
  },
  "language_info": {
   "codemirror_mode": {
    "name": "ipython",
    "version": 2
   },
   "file_extension": ".py",
   "mimetype": "text/x-python",
   "name": "python",
   "nbconvert_exporter": "python",
   "pygments_lexer": "ipython2",
   "version": "2.7.12"
  }
 },
 "nbformat": 4,
 "nbformat_minor": 0
}
