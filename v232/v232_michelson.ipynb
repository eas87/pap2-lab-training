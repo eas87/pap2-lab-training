{
 "cells": [
  {
   "cell_type": "markdown",
   "metadata": {},
   "source": [
    "# PAP2: V232 Michelson-Interferometer"
   ]
  },
  {
   "cell_type": "code",
   "execution_count": 1,
   "metadata": {
    "collapsed": true
   },
   "outputs": [],
   "source": [
    "import numpy as np\n",
    "import pandas as pd\n",
    "import matplotlib.pyplot as plt"
   ]
  },
  {
   "cell_type": "code",
   "execution_count": 2,
   "metadata": {
    "collapsed": true
   },
   "outputs": [],
   "source": [
    "df = pd.read_csv('messung232.csv')"
   ]
  },
  {
   "cell_type": "code",
   "execution_count": 4,
   "metadata": {
    "collapsed": false
   },
   "outputs": [
    {
     "data": {
      "text/html": [
       "<div>\n",
       "<table border=\"1\" class=\"dataframe\">\n",
       "  <thead>\n",
       "    <tr style=\"text-align: right;\">\n",
       "      <th></th>\n",
       "      <th>X</th>\n",
       "      <th>CH1</th>\n",
       "      <th>Unnamed: 2</th>\n",
       "    </tr>\n",
       "  </thead>\n",
       "  <tbody>\n",
       "    <tr>\n",
       "      <th>0</th>\n",
       "      <td>Second</td>\n",
       "      <td>Volt</td>\n",
       "      <td>NaN</td>\n",
       "    </tr>\n",
       "    <tr>\n",
       "      <th>1</th>\n",
       "      <td>-1.6387999e-01</td>\n",
       "      <td>9.60000e-03</td>\n",
       "      <td>NaN</td>\n",
       "    </tr>\n",
       "    <tr>\n",
       "      <th>2</th>\n",
       "      <td>-1.6385999e-01</td>\n",
       "      <td>9.60000e-03</td>\n",
       "      <td>NaN</td>\n",
       "    </tr>\n",
       "    <tr>\n",
       "      <th>3</th>\n",
       "      <td>-1.6384000e-01</td>\n",
       "      <td>9.60000e-03</td>\n",
       "      <td>NaN</td>\n",
       "    </tr>\n",
       "    <tr>\n",
       "      <th>4</th>\n",
       "      <td>-1.6381998e-01</td>\n",
       "      <td>9.60000e-03</td>\n",
       "      <td>NaN</td>\n",
       "    </tr>\n",
       "  </tbody>\n",
       "</table>\n",
       "</div>"
      ],
      "text/plain": [
       "                X          CH1  Unnamed: 2\n",
       "0          Second         Volt         NaN\n",
       "1  -1.6387999e-01  9.60000e-03         NaN\n",
       "2  -1.6385999e-01  9.60000e-03         NaN\n",
       "3  -1.6384000e-01  9.60000e-03         NaN\n",
       "4  -1.6381998e-01  9.60000e-03         NaN"
      ]
     },
     "execution_count": 4,
     "metadata": {},
     "output_type": "execute_result"
    }
   ],
   "source": [
    "df.head()"
   ]
  },
  {
   "cell_type": "code",
   "execution_count": null,
   "metadata": {
    "collapsed": true
   },
   "outputs": [],
   "source": [
    "#Aufgabe 2: Brechungsindex von Luft\n",
    "\n",
    "#Import der Module\n",
    "%matplotlib inline\n",
    "import matplotlib.pyplot as plt\n",
    "import numpy as np\n",
    "from scipy.optimize import curve_fit\n",
    "\n",
    "#Einlesen der Daten in folgender Reihenfolge:\n",
    "wf, t = np.loadtxt('tab4.txt', skiprows=1, usecols=(0,1), unpack=True)\n",
    "#wf Figurenachsenfrequenz in rpm\n",
    "#t Zeit für 10 Umläufe\n",
    "\n",
    "wf = 2*np.pi*wf/60 #Umrechnen in Kreisfrequenz\n",
    "w = 2*np.pi*10/t #Umrechnen in die Umlauffrequenz\n",
    "\n",
    "dwf = 2*np.pi*2/60\n",
    "dw = 20*np.pi*0.8/(t**2)\n",
    "\n",
    "# Fit mit einer Exponentialfunktion\n",
    "def fit(x, m):\n",
    "    return m*x\n",
    "\n",
    "#Fit durchführen\n",
    "popt, pcov = curve_fit(fit, wf, w, maxfev=5000, sigma=dw, p0=[0.06])\n",
    "perr = np.sqrt(np.diag(pcov))\n",
    "x=np.arange(0, 65, 0.1)\n",
    "\n",
    "#Güte des Fits\n",
    "chisquare=np.sum((((fit(wf,*popt))-w)/(dw))**2)\n",
    "dof=9 #degrees of freedom, Freiheitsgrad Anzahl Messwerte (10) - Fitparameter (1)\n",
    "chisquare_red=chisquare/dof\n",
    "from scipy.stats import chi2 \n",
    "prob=round(1-chi2.cdf(chisquare,dof),2)*100 \n",
    "\n",
    "\n",
    "#Plotten\n",
    "plt.errorbar(wf, w, xerr=dwf, yerr=dw, linestyle='None', marker='x', label='$Messwerte$')\n",
    "plt.plot(x, fit(x, *popt), label='$Fit: f(x)=m*x$')\n",
    "plt.xlabel('$Drehfrequenz\\ \\omega_{F} \\ in\\ [\\\\frac{1}{s}]$')\n",
    "plt.ylabel('$Umlauffrequenz\\ momentane\\ Drehachse\\ \\Omega \\ in\\ [\\\\frac{1}{s}]$')\n",
    "plt.title(r'Diagramm 3: Umlauffrequenz $\\Omega(\\omega_{F})$')\n",
    "#plt.yscale('log')\n",
    "plt.grid(True)\n",
    "plt.axis((0, 63, 0, 4.0))\n",
    "#plt.rcParams[\"figure.figsize\"][0] = 8\n",
    "#plt.rcParams[\"figure.figsize\"][1] = 5\n",
    "plt.rcParams[\"font.family\"]='serif'\n",
    "plt.legend(title='Messwerte mit Fit', borderpad=1.0, borderaxespad=1, loc='best', shadow='true')\n",
    "\n",
    "#Text im Plot\n",
    "plt.text(30, 1.2, u'$m_{fit}=%.5f \\pm%.5f$' %(popt[0], perr[0]), fontsize=10)\n",
    "plt.text(30, 0.9, u'$\\chi^{2}=%.2f$' %(chisquare), fontsize=10)\n",
    "plt.text(30, 0.6, u'$\\chi_{red}^{2}=%.2f $' %(chisquare_red), fontsize=10)\n",
    "plt.text(30, 0.3, u'$P=%.2f $' %(prob) + '%', fontsize=10)\n",
    "\n",
    "print('Werte in roher Form:')\n",
    "print('Beste Werte aus Fit:')\n",
    "print(popt)\n",
    "print('Fehler der Werte aus Fit (Wurzel der Kovarianzmatrixwerte)')\n",
    "print(perr)\n",
    "print('Chiquadratsumme:')\n",
    "print (chisquare)\n",
    "print(\"Fitwahrscheinlichkeit=\"+str(prob)+\"%\")\n",
    "\n",
    "#plt.savefig('v213_3.pdf',format='pdf')"
   ]
  }
 ],
 "metadata": {
  "kernelspec": {
   "display_name": "Python 3",
   "language": "python",
   "name": "python3"
  },
  "language_info": {
   "codemirror_mode": {
    "name": "ipython",
    "version": 3
   },
   "file_extension": ".py",
   "mimetype": "text/x-python",
   "name": "python",
   "nbconvert_exporter": "python",
   "pygments_lexer": "ipython3",
   "version": "3.6.0"
  }
 },
 "nbformat": 4,
 "nbformat_minor": 1
}
