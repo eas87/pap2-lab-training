{
 "cells": [
  {
   "cell_type": "markdown",
   "metadata": {},
   "source": [
    "# PAP2: V223 Brownsche Bewegung"
   ]
  },
  {
   "cell_type": "code",
   "execution_count": null,
   "metadata": {
    "collapsed": true
   },
   "outputs": [],
   "source": [
    "%matplotlib inline\n",
    "import matplotlib.pyplot as plt \n",
    "import matplotlib.mlab as mlab \n",
    "import numpy as np\n",
    "\n",
    "def comma_to_float(valstr):\n",
    "return float(valstr.decode(\"utf-8\").replace(’,’,’.’))\n",
    "\n",
    "t,x,y=np.loadtxt(’data/Messung.dat’, skiprows=1, usecols=(1,2,3), converters= {1:comma_to_float, 2:comma_to_float, 3:comma_to_float}, unpack=True)\n",
    "\n",
    "\n",
    "\n",
    "plt.plot(x, y, marker=’s’, color=’red’, linewidth=1) \n",
    "plt.xlabel(’x / ’+’ $\\mu$’+’m’)\n",
    "plt.ylabel(’y / ’+’ $\\mu$’+’m’)\n",
    "plt.title(’Brownian Motion’) \n",
    "plt.savefig(’figures/brown1.pdf’, format=’PDF’)\n",
    "\n",
    "\n",
    "\n",
    "for i in range(len(t)-1): \n",
    "    dt = t[i+1] - t[i] \n",
    "    dx = x[i+1] - x[i] \n",
    "    dy = y[i+1] - y[i]\n",
    "r_squared=dx**2+dy**2\n",
    "\n",
    "\n",
    "\n",
    "r_squared_mean=np.mean(r_squared)\n",
    "print(\"r_squared_mean= \" ,r_squared_mean) r_squared_mean_std=np.std(r_squared)/np.sqrt(len(r_squared)) \n",
    "print(\"r_squared_mean_std= \" ,r_squared_mean_std) dt_mean=np.mean(dt)\n",
    "print(\"dt_mean= \", dt_mean)\n",
    "\n",
    "\n",
    "all_data=np.append(dx,dy) \n",
    "plt.hist(all_data, normed=1)\n",
    "\n",
    "\n",
    "mu=np.mean(all_data)\n",
    "sigma=np.std(all_data)\n",
    "gauss = mlab.normpdf(np.linspace(-4,4), mu , sigma)\n",
    "\n",
    "\n",
    "plt.plot(np.linspace(-4,4), gauss, ’b-’, linewidth=2) \n",
    "plt.savefig(’figures/brown2.pdf’, format=’PDF’)\n",
    "\n",
    "\n",
    "r_kumm=np.cumsum(r_squared)\n",
    "plt.plot(t[:-1], r_kumm, marker=’.’, color=’red’, linewidth=0) \n",
    "plt.xlabel(’Zeit / s’)\n",
    "plt.ylabel(’Summe $r_i^2 /\\mu m^2$’)\n",
    "plt.title(’Kummulative Verschiebung’) \n",
    "plt.savefig(’figures/brown3.pdf’, format=’PDF’)\n",
    "\n",
    "from scipy.optimize import curve_fit \n",
    "def linear(x,a,b):\n",
    "    return a*x+b\n",
    "\n",
    "popt, pcov = curve_fit(linear, t[:-1], r_kumm)\n",
    "plt.plot(t[:-1], linear(t[:-1],*popt))"
   ]
  }
 ],
 "metadata": {
  "kernelspec": {
   "display_name": "Python 3",
   "language": "python",
   "name": "python3"
  },
  "language_info": {
   "codemirror_mode": {
    "name": "ipython",
    "version": 3
   },
   "file_extension": ".py",
   "mimetype": "text/x-python",
   "name": "python",
   "nbconvert_exporter": "python",
   "pygments_lexer": "ipython3",
   "version": "3.6.0"
  }
 },
 "nbformat": 4,
 "nbformat_minor": 1
}
