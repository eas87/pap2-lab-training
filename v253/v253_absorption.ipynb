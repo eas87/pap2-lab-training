{
 "cells": [
  {
   "cell_type": "markdown",
   "metadata": {},
   "source": [
    "# PAP2 V253: Apsorption von $\\alpha$-, $\\beta$- & $\\gamma$-Strahlen"
   ]
  },
  {
   "cell_type": "markdown",
   "metadata": {
    "collapsed": true
   },
   "source": [
    "Absorption Versuchsauswertung"
   ]
  },
  {
   "cell_type": "markdown",
   "metadata": {
    "collapsed": true
   },
   "source": [
    "Aufgabe 1: Absorption von $\\beta$-Strahlung"
   ]
  },
  {
   "cell_type": "code",
   "execution_count": 3,
   "metadata": {
    "collapsed": false
   },
   "outputs": [
    {
     "name": "stdout",
     "output_type": "stream",
     "text": [
      "[  30.   30.   30.   30.   30.   30.  120.  120.  120.  120.  120.  120.\n",
      "  120.  120.  120.  120.  120.  120.  120.  300.]\n",
      "[ 0.   0.3  0.6  0.9  1.2  1.5  1.8  2.1  2.4  2.7  3.   3.3  3.6  3.9  4.2\n",
      "  4.5  4.8  5.1  5.4  6.4]\n",
      "[ 1102.   700.   453.   354.   210.   124.   287.   175.   125.    86.\n",
      "    54.    70.    51.    74.    69.    78.    76.    65.    77.   145.]\n"
     ]
    },
    {
     "data": {
      "text/plain": [
       "<Container object of 3 artists>"
      ]
     },
     "execution_count": 3,
     "metadata": {},
     "output_type": "execute_result"
    },
    {
     "data": {
      "image/png": "[encoded data removed]",
      "text/plain": [
       "<matplotlib.figure.Figure at 0x10c7aabd0>"
      ]
     },
     "metadata": {},
     "output_type": "display_data"
    }
   ],
   "source": [
    "%matplotlib inline\n",
    "import matplotlib.pyplot as plt\n",
    "import numpy as np\n",
    "\n",
    "t, d, z = np.loadtxt('tab1.txt', skiprows=1, unpack=True)\n",
    "\n",
    "print t\n",
    "print d\n",
    "print z\n",
    "\n",
    "plt.errorbar(d, z, 3, fmt=\".\", label='Messwerte mit Fehler $\\\\sqrt{N}$')\n"
   ]
  },
  {
   "cell_type": "code",
   "execution_count": 1,
   "metadata": {
    "collapsed": false
   },
   "outputs": [
    {
     "ename": "IndexError",
     "evalue": "list index out of range",
     "output_type": "error",
     "traceback": [
      "\u001b[0;31m----------------------------------------------------------------------\u001b[0m",
      "\u001b[0;31mIndexError\u001b[0m                           Traceback (most recent call last)",
      "\u001b[0;32m<ipython-input-1-2daee3caca69>\u001b[0m in \u001b[0;36m<module>\u001b[0;34m()\u001b[0m\n\u001b[1;32m      3\u001b[0m \u001b[0;32mimport\u001b[0m \u001b[0mnumpy\u001b[0m \u001b[0;32mas\u001b[0m \u001b[0mnp\u001b[0m\u001b[0;34m\u001b[0m\u001b[0m\n\u001b[1;32m      4\u001b[0m \u001b[0;34m\u001b[0m\u001b[0m\n\u001b[0;32m----> 5\u001b[0;31m \u001b[0mU_ein\u001b[0m\u001b[0;34m,\u001b[0m \u001b[0mein_err\u001b[0m\u001b[0;34m,\u001b[0m \u001b[0mU_aus1\u001b[0m\u001b[0;34m,\u001b[0m \u001b[0maus1_err\u001b[0m\u001b[0;34m,\u001b[0m \u001b[0mU_aus2\u001b[0m\u001b[0;34m,\u001b[0m \u001b[0maus2_err\u001b[0m \u001b[0;34m=\u001b[0m \u001b[0mnp\u001b[0m\u001b[0;34m.\u001b[0m\u001b[0mloadtxt\u001b[0m\u001b[0;34m(\u001b[0m\u001b[0;34m'tab1.txt'\u001b[0m\u001b[0;34m,\u001b[0m \u001b[0mskiprows\u001b[0m\u001b[0;34m=\u001b[0m\u001b[0;36m1\u001b[0m\u001b[0;34m,\u001b[0m \u001b[0musecols\u001b[0m\u001b[0;34m=\u001b[0m\u001b[0;34m(\u001b[0m\u001b[0;36m0\u001b[0m\u001b[0;34m,\u001b[0m\u001b[0;36m1\u001b[0m\u001b[0;34m,\u001b[0m\u001b[0;36m2\u001b[0m\u001b[0;34m,\u001b[0m\u001b[0;36m3\u001b[0m\u001b[0;34m,\u001b[0m\u001b[0;36m4\u001b[0m\u001b[0;34m,\u001b[0m\u001b[0;36m5\u001b[0m\u001b[0;34m)\u001b[0m\u001b[0;34m,\u001b[0m \u001b[0munpack\u001b[0m\u001b[0;34m=\u001b[0m\u001b[0mTrue\u001b[0m\u001b[0;34m)\u001b[0m\u001b[0;34m\u001b[0m\u001b[0m\n\u001b[0m\u001b[1;32m      6\u001b[0m \u001b[0;34m\u001b[0m\u001b[0m\n\u001b[1;32m      7\u001b[0m \u001b[0;34m\u001b[0m\u001b[0m\n",
      "\u001b[0;32m/Users/Oskar/anaconda/lib/python2.7/site-packages/numpy/lib/npyio.pyc\u001b[0m in \u001b[0;36mloadtxt\u001b[0;34m(fname, dtype, comments, delimiter, converters, skiprows, usecols, unpack, ndmin)\u001b[0m\n\u001b[1;32m    921\u001b[0m                 \u001b[0;32mcontinue\u001b[0m\u001b[0;34m\u001b[0m\u001b[0m\n\u001b[1;32m    922\u001b[0m             \u001b[0;32mif\u001b[0m \u001b[0musecols\u001b[0m\u001b[0;34m:\u001b[0m\u001b[0;34m\u001b[0m\u001b[0m\n\u001b[0;32m--> 923\u001b[0;31m                 \u001b[0mvals\u001b[0m \u001b[0;34m=\u001b[0m \u001b[0;34m[\u001b[0m\u001b[0mvals\u001b[0m\u001b[0;34m[\u001b[0m\u001b[0mi\u001b[0m\u001b[0;34m]\u001b[0m \u001b[0;32mfor\u001b[0m \u001b[0mi\u001b[0m \u001b[0;32min\u001b[0m \u001b[0musecols\u001b[0m\u001b[0;34m]\u001b[0m\u001b[0;34m\u001b[0m\u001b[0m\n\u001b[0m\u001b[1;32m    924\u001b[0m             \u001b[0;32mif\u001b[0m \u001b[0mlen\u001b[0m\u001b[0;34m(\u001b[0m\u001b[0mvals\u001b[0m\u001b[0;34m)\u001b[0m \u001b[0;34m!=\u001b[0m \u001b[0mN\u001b[0m\u001b[0;34m:\u001b[0m\u001b[0;34m\u001b[0m\u001b[0m\n\u001b[1;32m    925\u001b[0m                 \u001b[0mline_num\u001b[0m \u001b[0;34m=\u001b[0m \u001b[0mi\u001b[0m \u001b[0;34m+\u001b[0m \u001b[0mskiprows\u001b[0m \u001b[0;34m+\u001b[0m \u001b[0;36m1\u001b[0m\u001b[0;34m\u001b[0m\u001b[0m\n",
      "\u001b[0;31mIndexError\u001b[0m: list index out of range"
     ]
    }
   ],
   "source": [
    "%matplotlib inline\n",
    "import matplotlib.pyplot as plt\n",
    "import numpy as np\n",
    "\n",
    "U_ein, ein_err, U_aus1, aus1_err, U_aus2, aus2_err = np.loadtxt('tab1.txt', skiprows=1, usecols=(0,1,2,3,4,5), unpack=True)\n",
    "\n",
    "\n",
    "\n",
    "#Zaehlrohrspannung:\n",
    "U=np.array([410,435,460,485,510,535,560])\n",
    "#gezaehlte Ereignisse\n",
    "N=np.array([2494,2512,2540,2551,2535,2532,2591])\n",
    "Fehler_N=np.sqrt(N)\n",
    "\n",
    "#Fitten\n",
    "from scipy.optimize import curve_fit\n",
    "def linear(x,a,b):\n",
    "    return a*x+b\n",
    "popt, pcov=curve_fit(linear, U, N)\n",
    "perr = np.sqrt(np.diag(pcov))\n",
    "\n",
    "#Plotten\n",
    "plt.errorbar(U, N, Fehler_N, fmt=\".\", label='Messwerte mit Fehler $\\\\sqrt{N}$')\n",
    "plt.xlabel('$Spannung\\ U_{Zaehlrohr}\\  [V]$')\n",
    "plt.ylabel('$Ereignisse$')\n",
    "plt.title('Diagramm 1: Zaehlrohrcharakteristik')\n",
    "plt.plot(U, linear(U,*popt), label='$Steigung: \\; m_{fit}=%.2f \\pm%.2f $' %(popt[0], perr[0]))\n",
    "plt.rcParams[\"figure.figsize\"][0] = 10\n",
    "plt.rcParams[\"figure.figsize\"][1] = 7\n",
    "plt.rcParams[\"font.family\"]='serif'\n",
    "plt.axis((400, 570, 2300, 2650))\n",
    "plt.legend(title='Messwerte und Linearer Fit', loc='best', borderpad=1, borderaxespad=1, shadow='true', fontsize='medium')\n",
    "plt.grid(True)\n",
    "#plt.savefig('v253_1.pdf', format='pdf')\n",
    "\n",
    "\n",
    "\n",
    "data = np.loadtxt('1.txt', skiprows=1)\n",
    "\n",
    "x = unp.uarray(data[:,0]*const.milli, 0.05*const.milli)\n",
    "N = data[:,2]\n",
    "n = unp.uarray(N, np.sqrt(N))/data[:,1]\n",
    "nUb = unc.ufloat(149,np.sqrt(149))/(5.*60.)\n",
    "\n",
    "n = n-nUb\n",
    "\n",
    "table = pt.PrettyTable()\n",
    "table.add_column('x [mm]', x/const.milli, align='r')\n",
    "table.add_column('(n-n_U^b) [1/s]', n, align='r')\n",
    "with open('Resources/3.1.txt', 'w') as file:\n",
    "    file.write(table.get_string())\n",
    "\n",
    "# Abschätzung der Maximalreichweite aus dem Diagramm\n",
    "x1 = 3.3*const.milli\n",
    "x2 = 3.8*const.milli\n",
    "xM = unc.ufloat(x1+np.abs(x1-x2)/2., np.abs(x1-x2)/2.)\n",
    "\n",
    "# Berechnung der Maximalenergie\n",
    "RbES = 0.13*const.gram/const.centi**2\n",
    "rAl = 2.7*const.gram/const.centi**3\n",
    "Rb = RbES + xM * rAl\n",
    "print \"Flächendichte:\", papstats.pformat(Rb/(const.gram/const.centi**2), label='R^b', unit='g/cm^2', format='.2u')\n",
    "print \"Maximalenergie:\"\n",
    "EM = unc.ufloat(2.25,0.1) # Aus Diagramm in Versuchsanleitung abgelesen\n",
    "papstats.print_rdiff(EM,unc.ufloat(2.274,0))\n",
    "\n",
    "# Plot\n",
    "plt.clf()\n",
    "plt.title(u'Diagramm 3.1: '+r'$\\beta$'+u'-Strahlung in Abhängigkeit der Absorberdicke mit Extrapolation')\n",
    "plt.yscale('log', nonposy='clip')\n",
    "plt.xlabel('Absorberdicke $x \\, [mm]$')\n",
    "plt.ylabel(u'korrigierte Zählrate '+r'$(n-n_U^{\\beta}) \\, [\\frac{Ereignisse}{s}]$')\n",
    "papstats.plot_data(x/const.milli, n, label='Messpunkte')\n",
    "sl_upper = 10\n",
    "sl = (n > 0) & (n <= sl_upper)\n",
    "k = 5\n",
    "xspace = np.linspace(x[sl][0].n, 0.004, num=1000)\n",
    "extrapolater = ip.UnivariateSpline(unp.nominal_values(x[sl]), np.log(unp.nominal_values(n[sl])), k=k)\n",
    "plt.plot(xspace/const.milli, np.exp(extrapolater(xspace)), color='r', label='Extrapolation mit Polynom der Ordnung $k='+str(k)+'$ mit $n \\in (0,'+str(sl_upper)+']$')\n",
    "plt.fill_betweenx(np.linspace(1e-3,1e2), x1/const.milli, x2/const.milli, color='g', alpha=0.2)\n",
    "plt.xlim(0, xspace[-1]/const.milli)\n",
    "plt.ylim(1e-3,1e2)\n",
    "handles, labels = plt.gca().get_legend_handles_labels()\n",
    "p = plt.Rectangle((0, 0), 1, 1, color='g', alpha=0.2)\n",
    "handles.append(p)\n",
    "labels.append(u'Abschätzung der Maximalreichweite:\\n$'+papstats.pformat(xM/const.milli, label='x_M', unit='mm')+'$')\n",
    "plt.legend(handles, labels, loc='lower left')\n",
    "papstats.savefig_a4('3.1.png')\n",
    "\n"
   ]
  },
  {
   "cell_type": "markdown",
   "metadata": {},
   "source": [
    "Aufgabe 2: "
   ]
  },
  {
   "cell_type": "markdown",
   "metadata": {},
   "source": [
    "Aufgabe 3: "
   ]
  },
  {
   "cell_type": "markdown",
   "metadata": {
    "collapsed": true
   },
   "source": [
    "Aufgabe 4: "
   ]
  }
 ],
 "metadata": {
  "anaconda-cloud": {},
  "kernelspec": {
   "display_name": "Python [Root]",
   "language": "python",
   "name": "Python [Root]"
  },
  "language_info": {
   "codemirror_mode": {
    "name": "ipython",
    "version": 2
   },
   "file_extension": ".py",
   "mimetype": "text/x-python",
   "name": "python",
   "nbconvert_exporter": "python",
   "pygments_lexer": "ipython2",
   "version": "2.7.12"
  }
 },
 "nbformat": 4,
 "nbformat_minor": 0
}
