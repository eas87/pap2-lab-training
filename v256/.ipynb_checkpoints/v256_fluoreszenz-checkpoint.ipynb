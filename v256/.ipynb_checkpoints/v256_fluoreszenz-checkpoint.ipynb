{
 "cells": [
  {
   "cell_type": "markdown",
   "metadata": {},
   "source": [
    "# PAP2 V256: Röntgenfluoreszenz"
   ]
  },
  {
   "cell_type": "markdown",
   "metadata": {
    "collapsed": true
   },
   "source": [
    "Aufgabe1: \n",
    "\n",
    "Erstellen Sie mit der Software Origin eine Arbeitsmappe die folgende Spalten besitzt:\n",
    "- Kernladungszahl Z (x- Zuordnung).\n",
    "- Energie der Kα- Strahlung Eα (y- Zuordnung).\n",
    "- Peakbreite der Kα- Strahlung (y- Fehler Zuordnung). \n",
    "- Die Größe √Eα und dessen Fehler.\n",
    "\n",
    "Tragen Sie √Eα mit Fehlern grafisch u ̈ber Z auf und passen Sie die Funktion √E =√E (Z−σ )  1 − 1  an.Fu ̈rn undn müsse nSi edie\n",
    "α R 12 n2 n2 1 2 12\n",
    "passenden Hauptquantenzahlen wa ̈hlen. ER und σ12 sind freie Fitparameter. Vergleichen Sie die bestimmten Fitparametern mit dem Literaturwert bzw. Ih- ren Erwartungen. Wiederholen Sie die Auswertung fu ̈r die Kβ- Strahlung."
   ]
  },
  {
   "cell_type": "markdown",
   "metadata": {
    "collapsed": true
   },
   "source": [
    "- k alpha = 1\n",
    "- k beta = 1.8"
   ]
  },
  {
   "cell_type": "code",
   "execution_count": 18,
   "metadata": {
    "collapsed": false
   },
   "outputs": [
    {
     "name": "stdout",
     "output_type": "stream",
     "text": [
      "[ 2.1   2.53  2.73  2.83  2.9   3.98  4.18  4.69]\n",
      "[ 22.  26.  28.  29.  30.  40.  42.  47.]\n",
      "[ 1.  1.]\n",
      "[ inf  inf]\n"
     ]
    },
    {
     "data": {
      "text/plain": [
       "<matplotlib.legend.Legend at 0x1129b26d0>"
      ]
     },
     "execution_count": 18,
     "metadata": {},
     "output_type": "execute_result"
    },
    {
     "data": {
      "image/png": "[encoded data removed]",
      "text/plain": [
       "<matplotlib.figure.Figure at 0x1102c0ed0>"
      ]
     },
     "metadata": {},
     "output_type": "display_data"
    }
   ],
   "source": [
    "#Aufgabe 1: Auswertung k_alpha-Strahlung: \n",
    "\n",
    "#Import der Module\n",
    "%matplotlib inline\n",
    "import matplotlib.pyplot as plt\n",
    "import numpy as np\n",
    "from scipy.optimize import curve_fit\n",
    "\n",
    "#Einlesen der Daten in folgender Reihenfolge:\n",
    "Z, Ea, sEa, sqEa, dsqEa = np.loadtxt('tab1_p.txt', skiprows=3, usecols=(1,2,3,4,5), unpack=True)\n",
    "#Kernladungszahl Z\n",
    "#Energie der K_alpha-Strahlung Ea\n",
    "#Peakbreite der Ka Strahlung sEa\n",
    "#Wurzel aus Ea: sqEa\n",
    "#Fehler der Wurzel: dsqEa\n",
    "\n",
    "print sqEa\n",
    "print Z\n",
    "\n",
    "#Fitfunktion: Moseleyesches Gesetz (wie in Einleitung vereinfacht)\n",
    "def fit_func(x, sigma, E): \n",
    "    return np.sqrt(E)*(x - sigma)*np.sqrt(3/4)\n",
    "\n",
    "popt, pcov = curve_fit(fit_func, Z, sqEa)\n",
    "\n",
    "print(popt)\n",
    "perr = np.sqrt(np.diag(pcov))\n",
    "print(perr)\n",
    "\n",
    "plt.errorbar(Z, sqEa, yerr=dsqEa, linestyle='None', marker='x', label='$Messwerte\\ mit\\ Fehler$')\n",
    "plt.plot(Z, fit_func(Z, *popt), label='$Moseleyescher\\ Fit$')\n",
    "plt.xlabel('$Kernladungszahl\\ Z\\ des\\ Elements$')\n",
    "plt.ylabel('$Energie\\ der\\ Linie\\ \\sqrt{E} \\ in\\ \\sqrt{keV}$')\n",
    "plt.title('Diagramm 1: K-alpha-Linien-Energie abh. von Kernladungszahl')\n",
    "plt.legend(loc='best')\n",
    "plt.rcParams[\"figure.figsize\"][0] = 8\n",
    "plt.rcParams[\"figure.figsize\"][1] = 5\n",
    "plt.rcParams[\"font.family\"]='serif'\n",
    "plt.legend(title='Messwerte mit Fit', borderpad=1, borderaxespad=1, loc='best', shadow='true')\n",
    "#plt.text(0.2, 9, u'$1\\sigma-$ Untergrund', fontsize=10)\n",
    "#plt.text(0.2, 3.5, u'$1\\sigma-$Nulleffekt', fontsize=10)\n",
    "#plt.savefig('v256_1.pdf',format='pdf')"
   ]
  },
  {
   "cell_type": "code",
   "execution_count": 9,
   "metadata": {
    "collapsed": false
   },
   "outputs": [
    {
     "name": "stdout",
     "output_type": "stream",
     "text": [
      "[ 1.  1.]\n"
     ]
    }
   ],
   "source": [
    "print popt"
   ]
  },
  {
   "cell_type": "code",
   "execution_count": 15,
   "metadata": {
    "collapsed": true
   },
   "outputs": [],
   "source": [
    "curve_fit?"
   ]
  },
  {
   "cell_type": "code",
   "execution_count": null,
   "metadata": {
    "collapsed": true
   },
   "outputs": [],
   "source": []
  }
 ],
 "metadata": {
  "anaconda-cloud": {},
  "kernelspec": {
   "display_name": "Python [Root]",
   "language": "python",
   "name": "Python [Root]"
  },
  "language_info": {
   "codemirror_mode": {
    "name": "ipython",
    "version": 2
   },
   "file_extension": ".py",
   "mimetype": "text/x-python",
   "name": "python",
   "nbconvert_exporter": "python",
   "pygments_lexer": "ipython2",
   "version": "2.7.12"
  }
 },
 "nbformat": 4,
 "nbformat_minor": 0
}
