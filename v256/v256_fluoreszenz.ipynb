{
 "cells": [
  {
   "cell_type": "markdown",
   "metadata": {},
   "source": [
    "# PAP2 V256: Röntgenfluoreszenz"
   ]
  },
  {
   "cell_type": "markdown",
   "metadata": {
    "collapsed": true
   },
   "source": [
    "Aufgabe1: \n",
    "\n",
    "Erstellen Sie mit der Software Origin eine Arbeitsmappe die folgende Spalten besitzt:\n",
    "- Kernladungszahl Z (x- Zuordnung).\n",
    "- Energie der Kα- Strahlung Eα (y- Zuordnung).\n",
    "- Peakbreite der Kα- Strahlung (y- Fehler Zuordnung). \n",
    "- Die Größe √Eα und dessen Fehler.\n",
    "\n",
    "Tragen Sie √Eα mit Fehlern grafisch u ̈ber Z auf und passen Sie die Funktion √E =√E (Z−σ )  1 − 1  an.Fu ̈rn undn müsse nSi edie\n",
    "α R 12 n2 n2 1 2 12\n",
    "passenden Hauptquantenzahlen wa ̈hlen. ER und σ12 sind freie Fitparameter. Vergleichen Sie die bestimmten Fitparametern mit dem Literaturwert bzw. Ih- ren Erwartungen. Wiederholen Sie die Auswertung fu ̈r die Kβ- Strahlung."
   ]
  },
  {
   "cell_type": "markdown",
   "metadata": {
    "collapsed": true
   },
   "source": [
    "- k alpha = 1\n",
    "- k beta = 1.8"
   ]
  },
  {
   "cell_type": "code",
   "execution_count": null,
   "metadata": {
    "collapsed": true
   },
   "outputs": [],
   "source": []
  }
 ],
 "metadata": {
  "anaconda-cloud": {},
  "kernelspec": {
   "display_name": "Python [Root]",
   "language": "python",
   "name": "Python [Root]"
  },
  "language_info": {
   "codemirror_mode": {
    "name": "ipython",
    "version": 2
   },
   "file_extension": ".py",
   "mimetype": "text/x-python",
   "name": "python",
   "nbconvert_exporter": "python",
   "pygments_lexer": "ipython2",
   "version": "2.7.12"
  }
 },
 "nbformat": 4,
 "nbformat_minor": 0
}
