{
 "cells": [
  {
   "cell_type": "markdown",
   "metadata": {},
   "source": [
    "# PAP2 V234: Lichtquellen"
   ]
  },
  {
   "cell_type": "code",
   "execution_count": 1,
   "metadata": {
    "collapsed": false
   },
   "outputs": [],
   "source": [
    "#Module importieren: \n",
    "#%pylab qt\n",
    "import matplotlib.pyplot as plt \n",
    "import numpy as np"
   ]
  },
  {
   "cell_type": "code",
   "execution_count": 3,
   "metadata": {
    "collapsed": false
   },
   "outputs": [
    {
     "ename": "ValueError",
     "evalue": "Unrecognized backend string \"cacaoagg\": valid strings are ['GTK', 'GTKAgg', 'GTKCairo', 'MacOSX', 'Qt4Agg', 'Qt5Agg', 'TkAgg', 'WX', 'WXAgg', 'CocoaAgg', 'GTK3Cairo', 'GTK3Agg', 'WebAgg', 'nbAgg', 'agg', 'cairo', 'emf', 'gdk', 'pdf', 'pgf', 'ps', 'svg', 'template']",
     "output_type": "error",
     "traceback": [
      "\u001b[0;31m---------------------------------------------------------------------------\u001b[0m",
      "\u001b[0;31mValueError\u001b[0m                                Traceback (most recent call last)",
      "\u001b[0;32m<ipython-input-3-f553c82eb390>\u001b[0m in \u001b[0;36m<module>\u001b[0;34m()\u001b[0m\n\u001b[1;32m      4\u001b[0m \u001b[0mx\u001b[0m \u001b[0;34m=\u001b[0m \u001b[0mnp\u001b[0m\u001b[0;34m.\u001b[0m\u001b[0mlinspace\u001b[0m\u001b[0;34m(\u001b[0m\u001b[0;36m0\u001b[0m\u001b[0;34m,\u001b[0m\u001b[0;36m10\u001b[0m\u001b[0;34m,\u001b[0m\u001b[0;36m100\u001b[0m\u001b[0;34m)\u001b[0m\u001b[0;34m\u001b[0m\u001b[0m\n\u001b[1;32m      5\u001b[0m \u001b[0mplt\u001b[0m\u001b[0;34m.\u001b[0m\u001b[0mplot\u001b[0m\u001b[0;34m(\u001b[0m\u001b[0mx\u001b[0m\u001b[0;34m,\u001b[0m \u001b[0mx\u001b[0m\u001b[0;34m**\u001b[0m\u001b[0;36m2\u001b[0m\u001b[0;34m)\u001b[0m\u001b[0;34m\u001b[0m\u001b[0m\n\u001b[0;32m----> 6\u001b[0;31m \u001b[0mplt\u001b[0m\u001b[0;34m.\u001b[0m\u001b[0mswitch_backend\u001b[0m\u001b[0;34m(\u001b[0m\u001b[0;34m'CacaoAgg'\u001b[0m\u001b[0;34m)\u001b[0m\u001b[0;34m\u001b[0m\u001b[0m\n\u001b[0m",
      "\u001b[0;32m/usr/local/lib/python3.6/site-packages/matplotlib/pyplot.py\u001b[0m in \u001b[0;36mswitch_backend\u001b[0;34m(newbackend)\u001b[0m\n\u001b[1;32m    228\u001b[0m     \u001b[0mclose\u001b[0m\u001b[0;34m(\u001b[0m\u001b[0;34m'all'\u001b[0m\u001b[0;34m)\u001b[0m\u001b[0;34m\u001b[0m\u001b[0m\n\u001b[1;32m    229\u001b[0m     \u001b[0;32mglobal\u001b[0m \u001b[0m_backend_mod\u001b[0m\u001b[0;34m,\u001b[0m \u001b[0mnew_figure_manager\u001b[0m\u001b[0;34m,\u001b[0m \u001b[0mdraw_if_interactive\u001b[0m\u001b[0;34m,\u001b[0m \u001b[0m_show\u001b[0m\u001b[0;34m\u001b[0m\u001b[0m\n\u001b[0;32m--> 230\u001b[0;31m     \u001b[0mmatplotlib\u001b[0m\u001b[0;34m.\u001b[0m\u001b[0muse\u001b[0m\u001b[0;34m(\u001b[0m\u001b[0mnewbackend\u001b[0m\u001b[0;34m,\u001b[0m \u001b[0mwarn\u001b[0m\u001b[0;34m=\u001b[0m\u001b[0;32mFalse\u001b[0m\u001b[0;34m,\u001b[0m \u001b[0mforce\u001b[0m\u001b[0;34m=\u001b[0m\u001b[0;32mTrue\u001b[0m\u001b[0;34m)\u001b[0m\u001b[0;34m\u001b[0m\u001b[0m\n\u001b[0m\u001b[1;32m    231\u001b[0m     \u001b[0;32mfrom\u001b[0m \u001b[0mmatplotlib\u001b[0m\u001b[0;34m.\u001b[0m\u001b[0mbackends\u001b[0m \u001b[0;32mimport\u001b[0m \u001b[0mpylab_setup\u001b[0m\u001b[0;34m\u001b[0m\u001b[0m\n\u001b[1;32m    232\u001b[0m     \u001b[0m_backend_mod\u001b[0m\u001b[0;34m,\u001b[0m \u001b[0mnew_figure_manager\u001b[0m\u001b[0;34m,\u001b[0m \u001b[0mdraw_if_interactive\u001b[0m\u001b[0;34m,\u001b[0m \u001b[0m_show\u001b[0m \u001b[0;34m=\u001b[0m \u001b[0mpylab_setup\u001b[0m\u001b[0;34m(\u001b[0m\u001b[0;34m)\u001b[0m\u001b[0;34m\u001b[0m\u001b[0m\n",
      "\u001b[0;32m/usr/local/lib/python3.6/site-packages/matplotlib/__init__.py\u001b[0m in \u001b[0;36muse\u001b[0;34m(arg, warn, force)\u001b[0m\n\u001b[1;32m   1349\u001b[0m         \u001b[0;31m# Lowercase only non-module backend names (modules are case-sensitive)\u001b[0m\u001b[0;34m\u001b[0m\u001b[0;34m\u001b[0m\u001b[0m\n\u001b[1;32m   1350\u001b[0m         \u001b[0marg\u001b[0m \u001b[0;34m=\u001b[0m \u001b[0marg\u001b[0m\u001b[0;34m.\u001b[0m\u001b[0mlower\u001b[0m\u001b[0;34m(\u001b[0m\u001b[0;34m)\u001b[0m\u001b[0;34m\u001b[0m\u001b[0m\n\u001b[0;32m-> 1351\u001b[0;31m         \u001b[0mname\u001b[0m \u001b[0;34m=\u001b[0m \u001b[0mvalidate_backend\u001b[0m\u001b[0;34m(\u001b[0m\u001b[0marg\u001b[0m\u001b[0;34m)\u001b[0m\u001b[0;34m\u001b[0m\u001b[0m\n\u001b[0m\u001b[1;32m   1352\u001b[0m \u001b[0;34m\u001b[0m\u001b[0m\n\u001b[1;32m   1353\u001b[0m     \u001b[0;31m# Check if we've already set up a backend\u001b[0m\u001b[0;34m\u001b[0m\u001b[0;34m\u001b[0m\u001b[0m\n",
      "\u001b[0;32m/usr/local/lib/python3.6/site-packages/matplotlib/rcsetup.py\u001b[0m in \u001b[0;36mvalidate_backend\u001b[0;34m(s)\u001b[0m\n\u001b[1;32m    230\u001b[0m         \u001b[0;32mreturn\u001b[0m \u001b[0ms\u001b[0m\u001b[0;34m\u001b[0m\u001b[0m\n\u001b[1;32m    231\u001b[0m     \u001b[0;32melse\u001b[0m\u001b[0;34m:\u001b[0m\u001b[0;34m\u001b[0m\u001b[0m\n\u001b[0;32m--> 232\u001b[0;31m         \u001b[0;32mreturn\u001b[0m \u001b[0m_validate_standard_backends\u001b[0m\u001b[0;34m(\u001b[0m\u001b[0ms\u001b[0m\u001b[0;34m)\u001b[0m\u001b[0;34m\u001b[0m\u001b[0m\n\u001b[0m\u001b[1;32m    233\u001b[0m \u001b[0;34m\u001b[0m\u001b[0m\n\u001b[1;32m    234\u001b[0m \u001b[0;34m\u001b[0m\u001b[0m\n",
      "\u001b[0;32m/usr/local/lib/python3.6/site-packages/matplotlib/rcsetup.py\u001b[0m in \u001b[0;36m__call__\u001b[0;34m(self, s)\u001b[0m\n\u001b[1;32m     68\u001b[0m             \u001b[0;32mreturn\u001b[0m \u001b[0mself\u001b[0m\u001b[0;34m.\u001b[0m\u001b[0mvalid\u001b[0m\u001b[0;34m[\u001b[0m\u001b[0ms\u001b[0m\u001b[0;34m]\u001b[0m\u001b[0;34m\u001b[0m\u001b[0m\n\u001b[1;32m     69\u001b[0m         raise ValueError('Unrecognized %s string \"%s\": valid strings are %s'\n\u001b[0;32m---> 70\u001b[0;31m                          % (self.key, s, list(six.itervalues(self.valid))))\n\u001b[0m\u001b[1;32m     71\u001b[0m \u001b[0;34m\u001b[0m\u001b[0m\n\u001b[1;32m     72\u001b[0m \u001b[0;34m\u001b[0m\u001b[0m\n",
      "\u001b[0;31mValueError\u001b[0m: Unrecognized backend string \"cacaoagg\": valid strings are ['GTK', 'GTKAgg', 'GTKCairo', 'MacOSX', 'Qt4Agg', 'Qt5Agg', 'TkAgg', 'WX', 'WXAgg', 'CocoaAgg', 'GTK3Cairo', 'GTK3Agg', 'WebAgg', 'nbAgg', 'agg', 'cairo', 'emf', 'gdk', 'pdf', 'pgf', 'ps', 'svg', 'template']"
     ]
    }
   ],
   "source": [
    "#from matplotlib import interactive\n",
    "#interactive(False)\n",
    "\n",
    "x = np.linspace(0,10,100)\n",
    "plt.plot(x, x**2)\n",
    "plt.switch_backend('CacaoAgg')"
   ]
  },
  {
   "cell_type": "code",
   "execution_count": 5,
   "metadata": {
    "collapsed": false
   },
   "outputs": [],
   "source": [
    "#Aufgabe 1: Glasabsorption\n",
    "\n",
    "def comma_to_float(valstr):\n",
    "    return float(valstr.decode(\"utf-8\").replace(',','.'))\n",
    "\n",
    "lamb_og, inten_og=np.loadtxt('data/himmel_o_g.txt', skiprows=17, \n",
    "                             converters= {0:comma_to_float, 1:comma_to_float},\n",
    "                             comments='>', unpack=True)\n",
    "\n",
    "plt.plot(lamb_og, inten_og, label=’ohne Fenster’) \n",
    "plt.plot(lamb_mg, inten_mg, label=’mit Fenster’) \n",
    "plt.title(’Gemessenes Sonnenspektrum mit und ohne Fenster’) \n",
    "plt.xlabel(’Wellenlaenge / nm’)\n",
    "plt.ylabel(’Intensitaet / b.E.’)\n",
    "plt.legend()\n",
    "plt.grid()\n",
    "plt.ylim((0,60000))\n",
    "plt.xlim((250,900)) plt.savefig(\"figures/Himmel_m_o_G.pdf\", format=\"pdf\")\n",
    "\n",
    "A=1-inten_mg/inten_og\n",
    "plt.plot(lamb_mg, A) \n",
    "plt.title(’Absorpton von Glas’) \n",
    "plt.xlabel(’Wellenlaenge / nm’) \n",
    "plt.ylabel(’Absorption / b.E.’) \n",
    "plt.ylim((0,1))\n",
    "\n",
    "plt.xlim((320,800)) \n",
    "plt.savefig(\"figures/Absorption_Glas.pdf\", format=\"pdf\")\n",
    "\n",
    "plt.plot(lamb_og, inten_og) \n",
    "plt.title(’Sonnenspektrum’)\n",
    "\n",
    "\n",
    "plt.xlabel(’Wellenlaenge / nm’) \n",
    "plt.ylabel(’Intensitaet / b.E.’) \n",
    "plt.ylim((0,60000))\n",
    "plt.xlim((350,800)) \n",
    "plt.savefig(\"figures/Fraunhofer.pdf\", format=\"pdf\")\n",
    "\n",
    "\n",
    "\n",
    "plt.plot(lamb, inten)\n",
    "plt.title(’Natriumspektrum geringer Intensitaet’) plt.xlabel(’Wellenlaenge / nm’) plt.ylabel(’Intensitaet / b.E.’) plt.yscale(’log’)\n",
    "plt.ylim((0,60000))\n",
    "plt.xlim((350,800))\n",
    "\n",
    "#Nebenserie\n",
    "\n",
    "for m in range(3,13):\n",
    "l=1.2398E3/(-13.605/m**2-E_3p)\n",
    "print(’m={m:2d}, lambda={l:6.2f}’.format(m=m,l=l))\n",
    "\n",
    "# Korrekturfaktoren\n",
    "\n",
    "wellenl=np.array([819.1,569.9,499.5,468.3,451.3, 441,434.8,431.6,428.3,421.4])\n",
    "fehler=np.array([2,1,1,1,1,1,1,1,1,2]) \n",
    "quantenz=np.arange(3,13)\n",
    "\n",
    "plt.errorbar(quantenz,wellenl,fehler, fmt=\".\") \n",
    "plt.xlabel(’Quantenzahl’) plt.ylabel(’Wellenlaenge / nm’)\n",
    "plt.title(’1. Nebenserie des Na-Atoms’)\n",
    "\n",
    "\n",
    "from scipy.optimize import curve_fit \n",
    "def fit_func(m,E_Ry,E_3p,D_d):\n",
    "    return 1.2398E3/(E_Ry/(m-D_d)**2-E_3p)\n",
    "\n",
    "para = [-13.6,-3,-0.02]\n",
    "popt, pcov = curve_fit(fit_func, quantenz, wellenl,sigma=fehler ,p0=para)\n",
    "\n",
    "\n",
    "print(\"E_Ry=\",popt[0], \", Standardfehler=\", np.sqrt(pcov[0][0])) \n",
    "print(\"E_3p=\",popt[1], \", Standardfehler=\", np.sqrt(pcov[1][1])) \n",
    "print(\"D_d=\",popt[2], \", Standardfehler=\", np.sqrt(pcov[2][2]))\n",
    "\n",
    "chi2_=np.sum((fit_func(quantenz,*popt)-wellenl)**2/fehler**2) dof=len(quantenz)-3 #dof:degrees of freedom, Freiheitsgrad chi2_red=chi2_/dof\n",
    "print(\"chi2=\", chi2_)\n",
    "print(\"chi2_red=\",chi2_red)"
   ]
  },
  {
   "cell_type": "code",
   "execution_count": null,
   "metadata": {
    "collapsed": true
   },
   "outputs": [],
   "source": []
  }
 ],
 "metadata": {
  "kernelspec": {
   "display_name": "Python 3",
   "language": "python",
   "name": "python3"
  },
  "language_info": {
   "codemirror_mode": {
    "name": "ipython",
    "version": 3
   },
   "file_extension": ".py",
   "mimetype": "text/x-python",
   "name": "python",
   "nbconvert_exporter": "python",
   "pygments_lexer": "ipython3",
   "version": "3.6.0"
  }
 },
 "nbformat": 4,
 "nbformat_minor": 1
}
