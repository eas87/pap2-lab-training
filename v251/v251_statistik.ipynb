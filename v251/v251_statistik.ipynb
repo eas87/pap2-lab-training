{
 "cells": [
  {
   "cell_type": "markdown",
   "metadata": {},
   "source": [
    "# PAP2 V251: Statistik des radioaktiven Zerfalls"
   ]
  },
  {
   "cell_type": "markdown",
   "metadata": {},
   "source": [
    "Aufgabe 1: Importieren und grafische Dartstellung der Messdaten"
   ]
  },
  {
   "cell_type": "code",
   "execution_count": 1,
   "metadata": {
    "collapsed": false
   },
   "outputs": [],
   "source": [
    "#A1: Graphische Darstellung der Messdaten\n",
    "\n",
    "#%matplotlib inline\n",
    "import matplotlib.pyplot as plt\n",
    "import numpy as np\n",
    "\n",
    "#Zaehlrohrspannung:\n",
    "U=np.array([410,435,460,485,510,535,560])\n",
    "#gezaehlte Ereignisse\n",
    "N=np.array([2494,2512,2540,2551,2535,2532,2591])\n",
    "Fehler_N=np.sqrt(N)\n",
    "\n",
    "#Fitten\n",
    "from scipy.optimize import curve_fit\n",
    "def linear(x,a,b):\n",
    "    return a*x+b\n",
    "popt, pcov=curve_fit(linear, U, N)\n",
    "perr = np.sqrt(np.diag(pcov))\n",
    "\n",
    "#Plotten\n",
    "plt.errorbar(U, N, Fehler_N, fmt=\".\", label='Messwerte mit Fehler $\\\\sqrt{N}$')\n",
    "plt.xlabel('$Spannung\\ U_{Zaehlrohr}\\  [V]$')\n",
    "plt.ylabel('$Ereignisse$')\n",
    "plt.title('Diagramm 1: Zaehlrohrcharakteristik')\n",
    "plt.plot(U, linear(U,*popt), label='$Steigung: \\; m_{fit}=%.2f \\pm%.2f $' %(popt[0], perr[0]))\n",
    "plt.rcParams[\"figure.figsize\"][0] = 10\n",
    "plt.rcParams[\"figure.figsize\"][1] = 7\n",
    "plt.rcParams[\"font.family\"]='serif'\n",
    "plt.axis((400, 570, 2300, 2650))\n",
    "plt.legend(title='Messwerte und Linearer Fit', loc='best', borderpad=1, borderaxespad=1, shadow='true', fontsize='medium')\n",
    "plt.grid(True)\n",
    "#plt.savefig('v251_1.pdf', format='pdf')"
   ]
  },
  {
   "cell_type": "markdown",
   "metadata": {},
   "source": [
    "Aufgabe 2: Plateaubereich des Zählrohres\n",
    "- Rechnung in Laborbuch"
   ]
  },
  {
   "cell_type": "markdown",
   "metadata": {},
   "source": [
    "Aufgabe 3: Auswertung Daten mit hoher mittlerer Ereigniszahl"
   ]
  },
  {
   "cell_type": "code",
   "execution_count": 2,
   "metadata": {
    "collapsed": false
   },
   "outputs": [
    {
     "name": "stdout",
     "output_type": "stream",
     "text": [
      "Gaussfit:\n",
      "('A=', 1680.779193643617, ', Standardfehler=', 44.854619013759283)\n",
      "('mu=', 77.837326640740756, ', Standardfehler=', 0.24856937657758782)\n",
      "('sig=', 8.6047426516240684, ', Standardfehler=', 0.24101362210682165)\n",
      "('chi2_g=', 39.090366619452737)\n",
      "('chi2_red_g=', 1.221573956857898)\n",
      "('Wahrscheinlichkeit Gauss=', 18.0, '%')\n",
      "Poissonfit:\n",
      "('A_p=', 1976.6210349739354, ', Standardfehler=', 49.245060889615921)\n",
      "('mu_p=', 78.028558154121271, ', Standardfehler=', 0.24750564667965944)\n",
      "('chi2_p=', 38.534492344747449)\n",
      "('chi2_red_p=', 1.1677118892347711)\n",
      "('Wahrscheinlichkeit Poisson=', 23.0, '%')\n"
     ]
    }
   ],
   "source": [
    "#Auswertung Hohe Ereigniszahl\n",
    "#Daten einlesen\n",
    "anzahl, haeufigkeit=np.loadtxt('Aufgabe1.dat', unpack=True)\n",
    "fehler=np.sqrt(haeufigkeit)\n",
    "\n",
    "#Fit einer Gaussfunktion\n",
    "from numpy import exp, pi, sqrt\n",
    "def gaussian(x, A, mu, sig): #A: Flaeche der Gaussfunktion\n",
    "    return A/(2*pi*sqrt(sig))*exp(-(x-mu)**2/2/sig**2)\n",
    "popt, pcov=curve_fit(gaussian,anzahl[18:-15], haeufigkeit[18:-15], p0=[2000,75,8],sigma=fehler[18:-15])\n",
    "\n",
    "#Fit einer Poissonverteilung\n",
    "from scipy.special import gamma\n",
    "def poisson(x, A_p, mu_p):\n",
    "    return A_p*exp(-mu_p)*mu_p**x/gamma(x+1)\n",
    "popt_p, pcov_p = curve_fit(poisson, anzahl[18:-15], haeufigkeit[18:-15], p0=[2000, 75], sigma=fehler[18:-15])\n",
    "\n",
    "#Ermitteln der Güte der Fits:\n",
    "from scipy.stats import chi2\n",
    "#Gauss:\n",
    "chi2_g=np.sum((gaussian(anzahl[18:-15],*popt)-haeufigkeit[18:-15])**2/fehler[18:-15]**2)\n",
    "dof_g=len(anzahl[18:-15])-3 #dof:degrees of freedom, Freiheitsgrad\n",
    "chi2_red_g=chi2_g/dof_g\n",
    "prob_g=round(1-chi2.cdf(chi2_g,dof_g),2)*100 #Fitwahrscheinlichkeit Gauss\n",
    "\n",
    "#Poisson:\n",
    "chi2_p=np.sum((poisson(anzahl[18:-15],*popt_p)-haeufigkeit[18:-15])**2/fehler[18:-15]**2)\n",
    "dof_p=len(anzahl[18:-15])-2 #poisson hat nur 2 Parameter\n",
    "chi2_red_p=chi2_p/dof_p\n",
    "prob_p=round(1-chi2.cdf(chi2_p,dof_p),2)*100 #Fitwahrscheinlichkeit Poisson\n",
    "\n",
    "#Ausgeben aller Werte\n",
    "print(\"Gaussfit:\")\n",
    "print(\"A=\",popt[0], \", Standardfehler=\", np.sqrt(pcov[0][0]))\n",
    "print(\"mu=\",popt[1], \", Standardfehler=\", np.sqrt(pcov[1][1]))\n",
    "print(\"sig=\",popt[2], \", Standardfehler=\", np.sqrt(pcov[2][2]))\n",
    "print(\"chi2_g=\", chi2_g)\n",
    "print(\"chi2_red_g=\",chi2_red_g)\n",
    "print(\"Wahrscheinlichkeit Gauss=\", prob_g,\"%\")\n",
    "\n",
    "print(\"Poissonfit:\")\n",
    "print(\"A_p=\",popt_p[0], \", Standardfehler=\", sqrt(pcov_p[0][0]))\n",
    "print(\"mu_p=\",popt_p[1], \", Standardfehler=\", sqrt(pcov_p[1][1]))\n",
    "print(\"chi2_p=\", chi2_p)\n",
    "print(\"chi2_red_p=\",chi2_red_p)\n",
    "print(\"Wahrscheinlichkeit Poisson=\", prob_p,\"%\")\n",
    "\n",
    "#Plotten der Messwerte\n",
    "plt.errorbar(anzahl, haeufigkeit, fehler, fmt=\".\", label='Messung')\n",
    "plt.xlabel('$Anzahl\\ der\\ Zerfaelle\\ pro\\ Zeiteinheit\\; \\\\frac{1}{s} $')\n",
    "plt.ylabel('$Haeufigkeit$')\n",
    "plt.title('Diagramm 2: Statistik des radioaktiven Zerfalls (Hohe Ereigniszahl)')\n",
    "\n",
    "x=np.linspace(40,110, 100)\n",
    "plt.plot(x, gaussian(x,*popt), label='Gausskurve')\n",
    "plt.plot(x, poisson(x,*popt_p), label='Poisson',linestyle=':')\n",
    "plt.legend(title='Fits an Messwerte', loc='best', borderpad=1, borderaxespad=1, shadow='true', fontsize='medium')\n",
    "plt.rcParams[\"figure.figsize\"][0] = 9\n",
    "plt.rcParams[\"figure.figsize\"][1] = 6\n",
    "plt.rcParams[\"font.family\"]='serif'\n",
    "plt.axis((40, 115, 0, 125))\n",
    "plt.grid(True)\n",
    "\n",
    "#plt.savefig(\"v251_2.pdf\", format=\"pdf\")"
   ]
  },
  {
   "cell_type": "markdown",
   "metadata": {},
   "source": [
    "Aufgabe 4: Auswertung der Daten mit kleiner mittlerer Ereigniszahl"
   ]
  },
  {
   "cell_type": "code",
   "execution_count": 3,
   "metadata": {
    "collapsed": false
   },
   "outputs": [
    {
     "name": "stdout",
     "output_type": "stream",
     "text": [
      "Gaussfit:\n",
      "('A=', 8645.5573471426251, ', Standardfehler=', 495.2470952671074)\n",
      "('mu=', 4.4613243782163394, ', Standardfehler=', 0.11427744035213443)\n",
      "('sig=', 2.0367841926340629, ', Standardfehler=', 0.08958988577276418)\n",
      "('chi2_g=', 113.52050336219119)\n",
      "('chi2_red_g=', 14.190062920273899)\n",
      "('Wahrscheinlichkeit Gauss=', 0.0, '%')\n",
      "Poissonfit:\n",
      "('A_p=', 5027.8697072956329, ', Standardfehler=', 37.261793645675759)\n",
      "('mu_p=', 4.5337731686723508, ', Standardfehler=', 0.016238530052490402)\n",
      "('chi2_p=', 2.466456717872632)\n",
      "('chi2_red_p=', 0.27405074643029242)\n",
      "('Wahrscheinlichkeit Poisson=', 98.0, '%')\n"
     ]
    }
   ],
   "source": [
    "#Auswertung Kleine Ereigniszahl\n",
    "#Daten einlesen\n",
    "anzahl, haeufigkeit=np.loadtxt('Aufgabe2.dat', unpack=True)\n",
    "fehler=np.sqrt(haeufigkeit)\n",
    "\n",
    "#Fit einer Gaussfunktion\n",
    "from numpy import exp, pi, sqrt\n",
    "def gaussian(x, A, mu, sig): #A: Flaeche der Gaussfunktion\n",
    "    return A/(2*pi*sqrt(sig))*exp(-(x-mu)**2/2/sig**2)\n",
    "popt, pcov=curve_fit(gaussian,anzahl[0:-5], haeufigkeit[0:-5], p0=[9000,5,2],sigma=fehler[0:-5])\n",
    "\n",
    "#Fit einer Poissonverteilung\n",
    "from scipy.special import gamma\n",
    "def poisson(x, A_p, mu_p):\n",
    "    return A_p*exp(-mu_p)*mu_p**x/gamma(x+1)\n",
    "popt_p, pcov_p = curve_fit(poisson, anzahl[0:-5], haeufigkeit[0:-5], p0=[5000, 5], sigma=fehler[0:-5])\n",
    "\n",
    "#Ermitteln der Güte der Fits:\n",
    "from scipy.stats import chi2\n",
    "#Gauss:\n",
    "chi2_g=np.sum((gaussian(anzahl[0:-5],*popt)-haeufigkeit[0:-5])**2/fehler[0:-5]**2)\n",
    "dof_g=len(anzahl[0:-5])-3 #dof:degrees of freedom, Freiheitsgrad\n",
    "chi2_red_g=chi2_g/dof_g\n",
    "prob_g=round(1-chi2.cdf(chi2_g,dof_g),2)*100 #Fitwahrscheinlichkeit Gauss\n",
    "\n",
    "#Poisson:\n",
    "chi2_p=np.sum((poisson(anzahl[0:-5],*popt_p)-haeufigkeit[0:-5])**2/fehler[0:-5]**2)\n",
    "dof_p=len(anzahl[0:-5])-2 #poisson hat nur 2 Parameter\n",
    "chi2_red_p=chi2_p/dof_p\n",
    "prob_p=round(1-chi2.cdf(chi2_p,dof_p),2)*100 #Fitwahrscheinlichkeit Poisson\n",
    "\n",
    "#Ausgeben aller Werte\n",
    "print(\"Gaussfit:\")\n",
    "print(\"A=\",popt[0], \", Standardfehler=\", np.sqrt(pcov[0][0]))\n",
    "print(\"mu=\",popt[1], \", Standardfehler=\", np.sqrt(pcov[1][1]))\n",
    "print(\"sig=\",popt[2], \", Standardfehler=\", np.sqrt(pcov[2][2]))\n",
    "print(\"chi2_g=\", chi2_g)\n",
    "print(\"chi2_red_g=\",chi2_red_g)\n",
    "print(\"Wahrscheinlichkeit Gauss=\", prob_g,\"%\")\n",
    "\n",
    "print(\"Poissonfit:\")\n",
    "print(\"A_p=\",popt_p[0], \", Standardfehler=\", sqrt(pcov_p[0][0]))\n",
    "print(\"mu_p=\",popt_p[1], \", Standardfehler=\", sqrt(pcov_p[1][1]))\n",
    "print(\"chi2_p=\", chi2_p)\n",
    "print(\"chi2_red_p=\",chi2_red_p)\n",
    "print(\"Wahrscheinlichkeit Poisson=\", prob_p,\"%\")\n",
    "\n",
    "#Plotten der Messwerte\n",
    "plt.errorbar(anzahl, haeufigkeit, fehler, fmt=\".\", label='Messung')\n",
    "plt.xlabel('$Anzahl\\ der\\ Zerfaelle\\ pro\\ Zeiteinheit\\; \\\\frac{1}{s} $')\n",
    "plt.ylabel('$Haeufigkeit$')\n",
    "plt.title('Diagramm 3: Statistik des radioaktiven Zerfalls (Kleine Ereigniszahl)')\n",
    "\n",
    "x=np.linspace(0,100, 100)\n",
    "plt.yscale('log')\n",
    "plt.plot(x, gaussian(x,*popt), label='Gausskurve')\n",
    "plt.plot(x, poisson(x,*popt_p), label='Poisson',linestyle=':')\n",
    "plt.legend(title='Fits an Messwerte', loc='lower left', borderpad=1, borderaxespad=1, shadow='true', fontsize='medium')\n",
    "plt.rcParams[\"figure.figsize\"][0] = 8\n",
    "plt.rcParams[\"figure.figsize\"][1] = 5\n",
    "plt.rcParams[\"font.family\"]='serif'\n",
    "plt.axis((0, 16, 0.5, 1500))\n",
    "plt.grid(True)\n",
    "#plt.savefig(\"v251_3.pdf\", format=\"pdf\")"
   ]
  },
  {
   "cell_type": "code",
   "execution_count": null,
   "metadata": {
    "collapsed": true
   },
   "outputs": [],
   "source": [
    "\n"
   ]
  }
 ],
 "metadata": {
  "anaconda-cloud": {},
  "kernelspec": {
   "display_name": "Python [Root]",
   "language": "python",
   "name": "Python [Root]"
  },
  "language_info": {
   "codemirror_mode": {
    "name": "ipython",
    "version": 2
   },
   "file_extension": ".py",
   "mimetype": "text/x-python",
   "name": "python",
   "nbconvert_exporter": "python",
   "pygments_lexer": "ipython2",
   "version": "2.7.12"
  }
 },
 "nbformat": 4,
 "nbformat_minor": 0
}
