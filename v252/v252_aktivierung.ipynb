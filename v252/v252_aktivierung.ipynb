{
 "cells": [
  {
   "cell_type": "markdown",
   "metadata": {},
   "source": [
    "# PAP2 V252: Aktivierung von Indium und Silber mit thermischen Neutronen"
   ]
  },
  {
   "cell_type": "code",
   "execution_count": null,
   "metadata": {
    "collapsed": true
   },
   "outputs": [],
   "source": [
    "#A1: Zerfall der Silberisotope\n",
    "\n",
    "#Untergrundbestimmung\n",
    "%matplotlib inline\n",
    "import matplotlib.pyplot as plt import numpy as np\n",
    "\n",
    "unterg =np.loadtxt('data/Messung.dat', usecols=[1])\n",
    "\n",
    "mittelw_unterg=np.mean(unterg)\n",
    "fehler_unterg=np.std(unterg)/np.sqrt(len(unterg))\n",
    "print('Mittelwert:', mittelw_unterg, 'Fehler:',fehler_unterg)\n",
    "\n",
    "n1 =np.loadtxt('data/Messung.dat', usecols=[1]) ...\n",
    "N=n1+n2+n3+n4\n",
    "Fehler_N=np.sqrt(N)\n",
    "\n",
    "t=np.arange(5,405,10)\n",
    "\n",
    "plt.errorbar(t,N, Fehler_N, linestyle='None') \n",
    "plt.xlabel('Zeit / s') plt.ylabel('Zerfaelle')\n",
    "plt.title('Zerfall von Silber mit Untergrund') \n",
    "plt.yscale('log')\n",
    "\n",
    "y0=mittelw_unterg #Untergrund def fit_func(x, A1,l1,A2,l2,y0):\n",
    "102\n",
    "return A1*np.exp(-x*l1) + A2*np.exp(-x*l2) + y0\n",
    "\n",
    "from scipy.optimize import curve_fit\n",
    "popt, pcov=curve_fit(fit_func,t,N, p0=[500,0.02,50,0.001], sigma=Fehler_N)\n",
    "\n",
    "plt.errorbar(t,N, Fehler_N, linestyle=’None’) \n",
    "plt.xlabel(’Zeit / s’) plt.ylabel(’Zerfaelle’)\n",
    "plt.title(’Zerfall von Silber mit Untergrund’) \n",
    "plt.yscale(’log’) \n",
    "plt.plot(t,fit_func(t,*popt)) \n",
    "plt.savefig(’figures/Silber.pdf’,format=’pdf’)\n",
    "\n",
    "print(\"A1=\",popt[0], \", Standardfehler=\", np.sqrt(pcov[0][0])) \n",
    "print(\"l1=\",popt[1], \", Standardfehler=\", np.sqrt(pcov[1][1])) \n",
    "print(\"A2=\",popt[2], \", Standardfehler=\", np.sqrt(pcov[2][2])) \n",
    "print(\"l2=\",popt[3], \", Standardfehler=\", np.sqrt(pcov[3][3]))\n",
    "\n",
    "\n",
    "chi2_=np.sum((fit_func(t,*popt)-N)**2/Fehler_N**2) \n",
    "dof=len(N)-4 #dof:degrees of freedom, Freiheitsgrad chi2_red=chi2_/dof\n",
    "print(\"chi2=\", chi2_)\n",
    "print(\"chi2_red=\",chi2_red)\n",
    "\n",
    "from scipy.stats import chi2 \n",
    "prob=round(1-chi2.cdf(chi2_,dof),2)*100 \n",
    "print(\"Wahrscheinlichkeit=\", prob,\"%\")"
   ]
  }
 ],
 "metadata": {
  "anaconda-cloud": {},
  "kernelspec": {
   "display_name": "Python [Root]",
   "language": "python",
   "name": "Python [Root]"
  },
  "language_info": {
   "codemirror_mode": {
    "name": "ipython",
    "version": 2
   },
   "file_extension": ".py",
   "mimetype": "text/x-python",
   "name": "python",
   "nbconvert_exporter": "python",
   "pygments_lexer": "ipython2",
   "version": "2.7.12"
  }
 },
 "nbformat": 4,
 "nbformat_minor": 0
}
